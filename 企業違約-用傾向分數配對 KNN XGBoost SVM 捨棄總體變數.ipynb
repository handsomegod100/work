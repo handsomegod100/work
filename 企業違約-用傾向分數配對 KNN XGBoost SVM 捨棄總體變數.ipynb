{
 "cells": [
  {
   "cell_type": "markdown",
   "metadata": {},
   "source": [
    "#### 安裝套件"
   ]
  },
  {
   "cell_type": "code",
   "execution_count": 1,
   "metadata": {},
   "outputs": [],
   "source": [
    "%matplotlib inline\n",
    "import numpy as np\n",
    "import matplotlib\n",
    "import matplotlib.pyplot as plt\n",
    "import pandas as pd\n",
    "import seaborn as sns\n",
    "import scipy.io as sio\n",
    "from sklearn.preprocessing import StandardScaler\n",
    "sc = StandardScaler()\n",
    "from sklearn import preprocessing, linear_model\n",
    "from sklearn.model_selection import cross_val_score, cross_val_predict\n",
    "from sklearn import metrics\n",
    "from sklearn.model_selection import StratifiedKFold, GridSearchCV\n",
    "sns.set()\n",
    "sns.set_palette(\"hls\", 8)"
   ]
  },
  {
   "cell_type": "markdown",
   "metadata": {},
   "source": [
    "#### method"
   ]
  },
  {
   "cell_type": "markdown",
   "metadata": {},
   "source": [
    "- 輸出模型準確率和繪製混淆矩陣"
   ]
  },
  {
   "cell_type": "code",
   "execution_count": 2,
   "metadata": {},
   "outputs": [],
   "source": [
    "def output(model,x_train,y_train,S_test) :    \n",
    "    accuracy_train = model.score(x_train, y_train)\n",
    "    accuracy_test = model.score(S_test, y_test)\n",
    "    print(\"Training Accuracy:\",accuracy_train)\n",
    "    print(\"Testing Accuracy:\",accuracy_test)\n",
    "    y_pred = model.predict(S_test)\n",
    "    cm = pd.crosstab(y_test, y_pred, rownames=['Actual'], colnames=['Predicted'])\n",
    "    fig, (ax1) = plt.subplots(ncols=1, figsize=(5,5))\n",
    "    sns.heatmap(cm, \n",
    "                xticklabels=['0', '1'],\n",
    "                yticklabels=['0', '1'],\n",
    "                annot=True,fmt='g',ax=ax1,\n",
    "                linewidths=.2,linecolor=\"Darkblue\", cmap=\"Blues\")\n",
    "    plt.title('Confusion Matrix', fontsize=14)\n",
    "    plt.show()"
   ]
  },
  {
   "cell_type": "markdown",
   "metadata": {},
   "source": [
    "#### 載入訓練集"
   ]
  },
  {
   "cell_type": "code",
   "execution_count": 3,
   "metadata": {
    "scrolled": true
   },
   "outputs": [
    {
     "data": {
      "text/html": [
       "<div>\n",
       "<style scoped>\n",
       "    .dataframe tbody tr th:only-of-type {\n",
       "        vertical-align: middle;\n",
       "    }\n",
       "\n",
       "    .dataframe tbody tr th {\n",
       "        vertical-align: top;\n",
       "    }\n",
       "\n",
       "    .dataframe thead th {\n",
       "        text-align: right;\n",
       "    }\n",
       "</style>\n",
       "<table border=\"1\" class=\"dataframe\">\n",
       "  <thead>\n",
       "    <tr style=\"text-align: right;\">\n",
       "      <th></th>\n",
       "      <th>ID</th>\n",
       "      <th>Default</th>\n",
       "      <th>SP500</th>\n",
       "      <th>TreasuryRate</th>\n",
       "      <th>DTDLevel</th>\n",
       "      <th>DTDTrend</th>\n",
       "      <th>CashTALevel</th>\n",
       "      <th>CashTATrend</th>\n",
       "      <th>NITALevel</th>\n",
       "      <th>NITATrend</th>\n",
       "      <th>SizeLevel</th>\n",
       "      <th>SizeTrend</th>\n",
       "      <th>MB</th>\n",
       "      <th>SIGMA</th>\n",
       "      <th>MediaSentimentScore</th>\n",
       "    </tr>\n",
       "  </thead>\n",
       "  <tbody>\n",
       "    <tr>\n",
       "      <th>0</th>\n",
       "      <td>29914</td>\n",
       "      <td>0</td>\n",
       "      <td>0.105748</td>\n",
       "      <td>5.781667</td>\n",
       "      <td>2.991237</td>\n",
       "      <td>-0.304599</td>\n",
       "      <td>0.005914</td>\n",
       "      <td>-0.000994</td>\n",
       "      <td>0.008041</td>\n",
       "      <td>0.003846</td>\n",
       "      <td>-6.169169</td>\n",
       "      <td>0.007151</td>\n",
       "      <td>1.486400</td>\n",
       "      <td>0.036054</td>\n",
       "      <td>1.498164</td>\n",
       "    </tr>\n",
       "    <tr>\n",
       "      <th>1</th>\n",
       "      <td>28534</td>\n",
       "      <td>0</td>\n",
       "      <td>0.080355</td>\n",
       "      <td>0.143333</td>\n",
       "      <td>2.774796</td>\n",
       "      <td>-0.190453</td>\n",
       "      <td>0.001935</td>\n",
       "      <td>-0.000613</td>\n",
       "      <td>0.013437</td>\n",
       "      <td>-0.022110</td>\n",
       "      <td>-4.645193</td>\n",
       "      <td>-0.303917</td>\n",
       "      <td>2.358707</td>\n",
       "      <td>0.122560</td>\n",
       "      <td>1.098612</td>\n",
       "    </tr>\n",
       "    <tr>\n",
       "      <th>2</th>\n",
       "      <td>30383</td>\n",
       "      <td>0</td>\n",
       "      <td>-0.233859</td>\n",
       "      <td>1.064167</td>\n",
       "      <td>6.639440</td>\n",
       "      <td>-0.426534</td>\n",
       "      <td>0.120863</td>\n",
       "      <td>-0.061333</td>\n",
       "      <td>0.019804</td>\n",
       "      <td>-0.004771</td>\n",
       "      <td>-3.567252</td>\n",
       "      <td>0.001180</td>\n",
       "      <td>1.949723</td>\n",
       "      <td>0.086757</td>\n",
       "      <td>1.386294</td>\n",
       "    </tr>\n",
       "    <tr>\n",
       "      <th>3</th>\n",
       "      <td>31500</td>\n",
       "      <td>0</td>\n",
       "      <td>0.060460</td>\n",
       "      <td>3.265000</td>\n",
       "      <td>10.520049</td>\n",
       "      <td>1.675419</td>\n",
       "      <td>0.078752</td>\n",
       "      <td>0.048442</td>\n",
       "      <td>0.067335</td>\n",
       "      <td>-0.002979</td>\n",
       "      <td>-5.213275</td>\n",
       "      <td>-0.050929</td>\n",
       "      <td>7.015260</td>\n",
       "      <td>0.087311</td>\n",
       "      <td>2.079442</td>\n",
       "    </tr>\n",
       "    <tr>\n",
       "      <th>4</th>\n",
       "      <td>28432</td>\n",
       "      <td>0</td>\n",
       "      <td>-0.180336</td>\n",
       "      <td>1.369167</td>\n",
       "      <td>7.599402</td>\n",
       "      <td>-2.004519</td>\n",
       "      <td>0.229821</td>\n",
       "      <td>0.028242</td>\n",
       "      <td>0.035658</td>\n",
       "      <td>0.002757</td>\n",
       "      <td>1.685995</td>\n",
       "      <td>-0.024760</td>\n",
       "      <td>5.117003</td>\n",
       "      <td>0.050768</td>\n",
       "      <td>1.194506</td>\n",
       "    </tr>\n",
       "  </tbody>\n",
       "</table>\n",
       "</div>"
      ],
      "text/plain": [
       "      ID  Default     SP500  TreasuryRate   DTDLevel  DTDTrend  CashTALevel  \\\n",
       "0  29914        0  0.105748      5.781667   2.991237 -0.304599     0.005914   \n",
       "1  28534        0  0.080355      0.143333   2.774796 -0.190453     0.001935   \n",
       "2  30383        0 -0.233859      1.064167   6.639440 -0.426534     0.120863   \n",
       "3  31500        0  0.060460      3.265000  10.520049  1.675419     0.078752   \n",
       "4  28432        0 -0.180336      1.369167   7.599402 -2.004519     0.229821   \n",
       "\n",
       "   CashTATrend  NITALevel  NITATrend  SizeLevel  SizeTrend        MB  \\\n",
       "0    -0.000994   0.008041   0.003846  -6.169169   0.007151  1.486400   \n",
       "1    -0.000613   0.013437  -0.022110  -4.645193  -0.303917  2.358707   \n",
       "2    -0.061333   0.019804  -0.004771  -3.567252   0.001180  1.949723   \n",
       "3     0.048442   0.067335  -0.002979  -5.213275  -0.050929  7.015260   \n",
       "4     0.028242   0.035658   0.002757   1.685995  -0.024760  5.117003   \n",
       "\n",
       "      SIGMA  MediaSentimentScore  \n",
       "0  0.036054             1.498164  \n",
       "1  0.122560             1.098612  \n",
       "2  0.086757             1.386294  \n",
       "3  0.087311             2.079442  \n",
       "4  0.050768             1.194506  "
      ]
     },
     "execution_count": 3,
     "metadata": {},
     "output_type": "execute_result"
    }
   ],
   "source": [
    "col = [\"ID\",\"Default\",\"SP500\",\"TreasuryRate\",\"DTDLevel\",\"DTDTrend\",\"CashTALevel\",\"CashTATrend\"\n",
    "      ,\"NITALevel\",\"NITATrend\",\"SizeLevel\",\"SizeTrend\",\"MB\",\"SIGMA\",\"MediaSentimentScore\"]\n",
    "train = pd.read_excel(\"2808x15.xlsx\",header = None)\n",
    "train.columns = col\n",
    "train.head()"
   ]
  },
  {
   "cell_type": "markdown",
   "metadata": {},
   "source": [
    "#### 載入測試集"
   ]
  },
  {
   "cell_type": "code",
   "execution_count": 4,
   "metadata": {
    "scrolled": false
   },
   "outputs": [
    {
     "data": {
      "text/html": [
       "<div>\n",
       "<style scoped>\n",
       "    .dataframe tbody tr th:only-of-type {\n",
       "        vertical-align: middle;\n",
       "    }\n",
       "\n",
       "    .dataframe tbody tr th {\n",
       "        vertical-align: top;\n",
       "    }\n",
       "\n",
       "    .dataframe thead th {\n",
       "        text-align: right;\n",
       "    }\n",
       "</style>\n",
       "<table border=\"1\" class=\"dataframe\">\n",
       "  <thead>\n",
       "    <tr style=\"text-align: right;\">\n",
       "      <th></th>\n",
       "      <th>ID</th>\n",
       "      <th>Default</th>\n",
       "      <th>SP500</th>\n",
       "      <th>TreasuryRate</th>\n",
       "      <th>DTDLevel</th>\n",
       "      <th>DTDTrend</th>\n",
       "      <th>CashTALevel</th>\n",
       "      <th>CashTATrend</th>\n",
       "      <th>NITALevel</th>\n",
       "      <th>NITATrend</th>\n",
       "      <th>SizeLevel</th>\n",
       "      <th>SizeTrend</th>\n",
       "      <th>MB</th>\n",
       "      <th>SIGMA</th>\n",
       "      <th>MediaSentimentScore</th>\n",
       "    </tr>\n",
       "  </thead>\n",
       "  <tbody>\n",
       "    <tr>\n",
       "      <th>0</th>\n",
       "      <td>29914.0</td>\n",
       "      <td>0.0</td>\n",
       "      <td>0.061827</td>\n",
       "      <td>0.305167</td>\n",
       "      <td>4.923900</td>\n",
       "      <td>-1.624164</td>\n",
       "      <td>0.015848</td>\n",
       "      <td>0.011049</td>\n",
       "      <td>0.004482</td>\n",
       "      <td>-0.000320</td>\n",
       "      <td>-5.700290</td>\n",
       "      <td>0.033461</td>\n",
       "      <td>0.981776</td>\n",
       "      <td>0.106913</td>\n",
       "      <td>0.597253</td>\n",
       "    </tr>\n",
       "    <tr>\n",
       "      <th>1</th>\n",
       "      <td>28534.0</td>\n",
       "      <td>0.0</td>\n",
       "      <td>0.215487</td>\n",
       "      <td>0.034833</td>\n",
       "      <td>5.975118</td>\n",
       "      <td>-2.911236</td>\n",
       "      <td>0.005365</td>\n",
       "      <td>0.002699</td>\n",
       "      <td>0.013425</td>\n",
       "      <td>-0.010326</td>\n",
       "      <td>-3.801586</td>\n",
       "      <td>-0.439577</td>\n",
       "      <td>3.603628</td>\n",
       "      <td>0.095247</td>\n",
       "      <td>0.693147</td>\n",
       "    </tr>\n",
       "    <tr>\n",
       "      <th>2</th>\n",
       "      <td>30383.0</td>\n",
       "      <td>0.0</td>\n",
       "      <td>0.212359</td>\n",
       "      <td>0.038667</td>\n",
       "      <td>14.246041</td>\n",
       "      <td>1.020533</td>\n",
       "      <td>0.175501</td>\n",
       "      <td>-0.035221</td>\n",
       "      <td>0.025523</td>\n",
       "      <td>0.006765</td>\n",
       "      <td>-2.506526</td>\n",
       "      <td>-0.029810</td>\n",
       "      <td>3.274125</td>\n",
       "      <td>0.033265</td>\n",
       "      <td>1.945910</td>\n",
       "    </tr>\n",
       "    <tr>\n",
       "      <th>3</th>\n",
       "      <td>29443.0</td>\n",
       "      <td>0.0</td>\n",
       "      <td>0.062598</td>\n",
       "      <td>0.025167</td>\n",
       "      <td>1.915331</td>\n",
       "      <td>-0.873294</td>\n",
       "      <td>0.114398</td>\n",
       "      <td>-0.015987</td>\n",
       "      <td>-0.063591</td>\n",
       "      <td>0.057003</td>\n",
       "      <td>-7.290181</td>\n",
       "      <td>-0.896490</td>\n",
       "      <td>1.500431</td>\n",
       "      <td>0.214144</td>\n",
       "      <td>2.754568</td>\n",
       "    </tr>\n",
       "    <tr>\n",
       "      <th>4</th>\n",
       "      <td>31264.0</td>\n",
       "      <td>0.0</td>\n",
       "      <td>0.162887</td>\n",
       "      <td>0.050000</td>\n",
       "      <td>3.349041</td>\n",
       "      <td>0.146269</td>\n",
       "      <td>0.196154</td>\n",
       "      <td>0.004205</td>\n",
       "      <td>0.011779</td>\n",
       "      <td>-0.003595</td>\n",
       "      <td>-2.991021</td>\n",
       "      <td>0.159933</td>\n",
       "      <td>1.459570</td>\n",
       "      <td>0.074337</td>\n",
       "      <td>0.366204</td>\n",
       "    </tr>\n",
       "  </tbody>\n",
       "</table>\n",
       "</div>"
      ],
      "text/plain": [
       "        ID  Default     SP500  TreasuryRate   DTDLevel  DTDTrend  CashTALevel  \\\n",
       "0  29914.0      0.0  0.061827      0.305167   4.923900 -1.624164     0.015848   \n",
       "1  28534.0      0.0  0.215487      0.034833   5.975118 -2.911236     0.005365   \n",
       "2  30383.0      0.0  0.212359      0.038667  14.246041  1.020533     0.175501   \n",
       "3  29443.0      0.0  0.062598      0.025167   1.915331 -0.873294     0.114398   \n",
       "4  31264.0      0.0  0.162887      0.050000   3.349041  0.146269     0.196154   \n",
       "\n",
       "   CashTATrend  NITALevel  NITATrend  SizeLevel  SizeTrend        MB  \\\n",
       "0     0.011049   0.004482  -0.000320  -5.700290   0.033461  0.981776   \n",
       "1     0.002699   0.013425  -0.010326  -3.801586  -0.439577  3.603628   \n",
       "2    -0.035221   0.025523   0.006765  -2.506526  -0.029810  3.274125   \n",
       "3    -0.015987  -0.063591   0.057003  -7.290181  -0.896490  1.500431   \n",
       "4     0.004205   0.011779  -0.003595  -2.991021   0.159933  1.459570   \n",
       "\n",
       "      SIGMA  MediaSentimentScore  \n",
       "0  0.106913             0.597253  \n",
       "1  0.095247             0.693147  \n",
       "2  0.033265             1.945910  \n",
       "3  0.214144             2.754568  \n",
       "4  0.074337             0.366204  "
      ]
     },
     "execution_count": 4,
     "metadata": {},
     "output_type": "execute_result"
    }
   ],
   "source": [
    "test = sio.loadmat(\"test\") \n",
    "test = pd.DataFrame(test[\"new\"])\n",
    "test.columns = col\n",
    "comp = pd.concat([train,test])\n",
    "test.head()"
   ]
  },
  {
   "cell_type": "code",
   "execution_count": 5,
   "metadata": {},
   "outputs": [],
   "source": [
    "from pymatch.Matcher import Matcher"
   ]
  },
  {
   "cell_type": "code",
   "execution_count": 6,
   "metadata": {},
   "outputs": [],
   "source": [
    "test = comp[comp[\"Default\"]==1]\n",
    "control = comp[comp[\"Default\"]==0]"
   ]
  },
  {
   "cell_type": "code",
   "execution_count": 28,
   "metadata": {},
   "outputs": [
    {
     "name": "stdout",
     "output_type": "stream",
     "text": [
      "Formula:\n",
      "Default ~ DTDLevel+DTDTrend+CashTALevel+CashTATrend+NITALevel+NITATrend+SizeLevel+SizeTrend+MB+SIGMA\n",
      "n majority: 3008\n",
      "n minority: 699\n"
     ]
    }
   ],
   "source": [
    "\n",
    "m = Matcher(test, control, yvar=\"Default\", exclude=[\"ID\",'MediaSentimentScore',\"SP500\",\"TreasuryRate\"])\n"
   ]
  },
  {
   "cell_type": "code",
   "execution_count": 29,
   "metadata": {},
   "outputs": [
    {
     "name": "stdout",
     "output_type": "stream",
     "text": [
      "Fitting Models on Balanced Samples: 100\\100\n",
      "Average Accuracy: 92.92%\n"
     ]
    }
   ],
   "source": [
    "import warnings\n",
    "warnings.filterwarnings('ignore')\n",
    "np.random.seed(20170921)\n",
    "m.fit_scores(balance=True, nmodels=100)"
   ]
  },
  {
   "cell_type": "code",
   "execution_count": 30,
   "metadata": {},
   "outputs": [
    {
     "name": "stdout",
     "output_type": "stream",
     "text": [
      "Propensity Scores have not been calculated. Using defaults...\n",
      "Fitting Models on Balanced Samples: 10\\10\n",
      "Average Accuracy: 93.0%\n"
     ]
    },
    {
     "data": {
      "text/html": [
       "<div>\n",
       "<style scoped>\n",
       "    .dataframe tbody tr th:only-of-type {\n",
       "        vertical-align: middle;\n",
       "    }\n",
       "\n",
       "    .dataframe tbody tr th {\n",
       "        vertical-align: top;\n",
       "    }\n",
       "\n",
       "    .dataframe thead th {\n",
       "        text-align: right;\n",
       "    }\n",
       "</style>\n",
       "<table border=\"1\" class=\"dataframe\">\n",
       "  <thead>\n",
       "    <tr style=\"text-align: right;\">\n",
       "      <th></th>\n",
       "      <th>freq</th>\n",
       "      <th>n_records</th>\n",
       "    </tr>\n",
       "  </thead>\n",
       "  <tbody>\n",
       "    <tr>\n",
       "      <th>0</th>\n",
       "      <td>1</td>\n",
       "      <td>805</td>\n",
       "    </tr>\n",
       "    <tr>\n",
       "      <th>1</th>\n",
       "      <td>2</td>\n",
       "      <td>23</td>\n",
       "    </tr>\n",
       "    <tr>\n",
       "      <th>2</th>\n",
       "      <td>3</td>\n",
       "      <td>12</td>\n",
       "    </tr>\n",
       "    <tr>\n",
       "      <th>3</th>\n",
       "      <td>4</td>\n",
       "      <td>4</td>\n",
       "    </tr>\n",
       "    <tr>\n",
       "      <th>4</th>\n",
       "      <td>5</td>\n",
       "      <td>7</td>\n",
       "    </tr>\n",
       "    <tr>\n",
       "      <th>5</th>\n",
       "      <td>6</td>\n",
       "      <td>5</td>\n",
       "    </tr>\n",
       "    <tr>\n",
       "      <th>6</th>\n",
       "      <td>7</td>\n",
       "      <td>1</td>\n",
       "    </tr>\n",
       "    <tr>\n",
       "      <th>7</th>\n",
       "      <td>9</td>\n",
       "      <td>1</td>\n",
       "    </tr>\n",
       "    <tr>\n",
       "      <th>8</th>\n",
       "      <td>10</td>\n",
       "      <td>5</td>\n",
       "    </tr>\n",
       "    <tr>\n",
       "      <th>9</th>\n",
       "      <td>11</td>\n",
       "      <td>2</td>\n",
       "    </tr>\n",
       "    <tr>\n",
       "      <th>10</th>\n",
       "      <td>13</td>\n",
       "      <td>2</td>\n",
       "    </tr>\n",
       "    <tr>\n",
       "      <th>11</th>\n",
       "      <td>15</td>\n",
       "      <td>2</td>\n",
       "    </tr>\n",
       "    <tr>\n",
       "      <th>12</th>\n",
       "      <td>16</td>\n",
       "      <td>1</td>\n",
       "    </tr>\n",
       "    <tr>\n",
       "      <th>13</th>\n",
       "      <td>20</td>\n",
       "      <td>1</td>\n",
       "    </tr>\n",
       "    <tr>\n",
       "      <th>14</th>\n",
       "      <td>21</td>\n",
       "      <td>2</td>\n",
       "    </tr>\n",
       "    <tr>\n",
       "      <th>15</th>\n",
       "      <td>24</td>\n",
       "      <td>1</td>\n",
       "    </tr>\n",
       "    <tr>\n",
       "      <th>16</th>\n",
       "      <td>33</td>\n",
       "      <td>1</td>\n",
       "    </tr>\n",
       "    <tr>\n",
       "      <th>17</th>\n",
       "      <td>151</td>\n",
       "      <td>1</td>\n",
       "    </tr>\n",
       "  </tbody>\n",
       "</table>\n",
       "</div>"
      ],
      "text/plain": [
       "    freq  n_records\n",
       "0      1        805\n",
       "1      2         23\n",
       "2      3         12\n",
       "3      4          4\n",
       "4      5          7\n",
       "5      6          5\n",
       "6      7          1\n",
       "7      9          1\n",
       "8     10          5\n",
       "9     11          2\n",
       "10    13          2\n",
       "11    15          2\n",
       "12    16          1\n",
       "13    20          1\n",
       "14    21          2\n",
       "15    24          1\n",
       "16    33          1\n",
       "17   151          1"
      ]
     },
     "execution_count": 30,
     "metadata": {},
     "output_type": "execute_result"
    }
   ],
   "source": [
    "m.match(method=\"min\", nmatches=1, threshold=0.0009)\n",
    "m.record_frequency()"
   ]
  },
  {
   "cell_type": "code",
   "execution_count": 31,
   "metadata": {},
   "outputs": [],
   "source": [
    "m.assign_weight_vector()"
   ]
  },
  {
   "cell_type": "code",
   "execution_count": 32,
   "metadata": {},
   "outputs": [],
   "source": [
    "mtest = m.matched_data.sort_values(\"match_id\")"
   ]
  },
  {
   "cell_type": "code",
   "execution_count": 33,
   "metadata": {},
   "outputs": [
    {
     "data": {
      "text/html": [
       "<div>\n",
       "<style scoped>\n",
       "    .dataframe tbody tr th:only-of-type {\n",
       "        vertical-align: middle;\n",
       "    }\n",
       "\n",
       "    .dataframe tbody tr th {\n",
       "        vertical-align: top;\n",
       "    }\n",
       "\n",
       "    .dataframe thead th {\n",
       "        text-align: right;\n",
       "    }\n",
       "</style>\n",
       "<table border=\"1\" class=\"dataframe\">\n",
       "  <thead>\n",
       "    <tr style=\"text-align: right;\">\n",
       "      <th></th>\n",
       "      <th>record_id</th>\n",
       "      <th>weight</th>\n",
       "      <th>ID</th>\n",
       "      <th>Default</th>\n",
       "      <th>SP500</th>\n",
       "      <th>TreasuryRate</th>\n",
       "      <th>DTDLevel</th>\n",
       "      <th>DTDTrend</th>\n",
       "      <th>CashTALevel</th>\n",
       "      <th>CashTATrend</th>\n",
       "      <th>NITALevel</th>\n",
       "      <th>NITATrend</th>\n",
       "      <th>SizeLevel</th>\n",
       "      <th>SizeTrend</th>\n",
       "      <th>MB</th>\n",
       "      <th>SIGMA</th>\n",
       "      <th>MediaSentimentScore</th>\n",
       "      <th>scores</th>\n",
       "      <th>match_id</th>\n",
       "    </tr>\n",
       "  </thead>\n",
       "  <tbody>\n",
       "    <tr>\n",
       "      <th>count</th>\n",
       "      <td>699.000000</td>\n",
       "      <td>699.0</td>\n",
       "      <td>699.000000</td>\n",
       "      <td>699.0</td>\n",
       "      <td>699.000000</td>\n",
       "      <td>699.000000</td>\n",
       "      <td>699.000000</td>\n",
       "      <td>699.000000</td>\n",
       "      <td>699.000000</td>\n",
       "      <td>699.000000</td>\n",
       "      <td>699.000000</td>\n",
       "      <td>699.000000</td>\n",
       "      <td>699.000000</td>\n",
       "      <td>699.000000</td>\n",
       "      <td>699.000000</td>\n",
       "      <td>699.000000</td>\n",
       "      <td>699.000000</td>\n",
       "      <td>699.000000</td>\n",
       "      <td>699.000000</td>\n",
       "    </tr>\n",
       "    <tr>\n",
       "      <th>mean</th>\n",
       "      <td>349.000000</td>\n",
       "      <td>1.0</td>\n",
       "      <td>38509.204578</td>\n",
       "      <td>1.0</td>\n",
       "      <td>0.012405</td>\n",
       "      <td>2.903352</td>\n",
       "      <td>0.932806</td>\n",
       "      <td>-0.728808</td>\n",
       "      <td>0.145312</td>\n",
       "      <td>-0.020899</td>\n",
       "      <td>-0.079442</td>\n",
       "      <td>-0.039779</td>\n",
       "      <td>-5.552409</td>\n",
       "      <td>-0.857714</td>\n",
       "      <td>0.869471</td>\n",
       "      <td>0.280060</td>\n",
       "      <td>0.816003</td>\n",
       "      <td>0.887911</td>\n",
       "      <td>349.000000</td>\n",
       "    </tr>\n",
       "    <tr>\n",
       "      <th>std</th>\n",
       "      <td>201.928205</td>\n",
       "      <td>0.0</td>\n",
       "      <td>13657.094510</td>\n",
       "      <td>0.0</td>\n",
       "      <td>0.180775</td>\n",
       "      <td>2.109144</td>\n",
       "      <td>1.071320</td>\n",
       "      <td>0.636153</td>\n",
       "      <td>0.192920</td>\n",
       "      <td>0.063403</td>\n",
       "      <td>0.122074</td>\n",
       "      <td>0.133138</td>\n",
       "      <td>1.506288</td>\n",
       "      <td>0.600370</td>\n",
       "      <td>18.319273</td>\n",
       "      <td>0.175181</td>\n",
       "      <td>1.005677</td>\n",
       "      <td>0.196328</td>\n",
       "      <td>201.928205</td>\n",
       "    </tr>\n",
       "    <tr>\n",
       "      <th>min</th>\n",
       "      <td>0.000000</td>\n",
       "      <td>1.0</td>\n",
       "      <td>27013.000000</td>\n",
       "      <td>1.0</td>\n",
       "      <td>-0.393149</td>\n",
       "      <td>0.011833</td>\n",
       "      <td>-1.915575</td>\n",
       "      <td>-4.533151</td>\n",
       "      <td>0.000199</td>\n",
       "      <td>-0.401289</td>\n",
       "      <td>-1.359701</td>\n",
       "      <td>-1.151220</td>\n",
       "      <td>-9.728757</td>\n",
       "      <td>-3.348282</td>\n",
       "      <td>-340.063122</td>\n",
       "      <td>0.052238</td>\n",
       "      <td>-1.723067</td>\n",
       "      <td>0.002421</td>\n",
       "      <td>0.000000</td>\n",
       "    </tr>\n",
       "    <tr>\n",
       "      <th>25%</th>\n",
       "      <td>174.500000</td>\n",
       "      <td>1.0</td>\n",
       "      <td>31452.000000</td>\n",
       "      <td>1.0</td>\n",
       "      <td>-0.141862</td>\n",
       "      <td>1.000167</td>\n",
       "      <td>0.219481</td>\n",
       "      <td>-1.118909</td>\n",
       "      <td>0.018510</td>\n",
       "      <td>-0.034122</td>\n",
       "      <td>-0.102946</td>\n",
       "      <td>-0.053519</td>\n",
       "      <td>-6.571724</td>\n",
       "      <td>-1.209703</td>\n",
       "      <td>0.126738</td>\n",
       "      <td>0.183859</td>\n",
       "      <td>0.000000</td>\n",
       "      <td>0.887276</td>\n",
       "      <td>174.500000</td>\n",
       "    </tr>\n",
       "    <tr>\n",
       "      <th>50%</th>\n",
       "      <td>349.000000</td>\n",
       "      <td>1.0</td>\n",
       "      <td>37055.000000</td>\n",
       "      <td>1.0</td>\n",
       "      <td>0.056611</td>\n",
       "      <td>2.920500</td>\n",
       "      <td>0.826871</td>\n",
       "      <td>-0.654507</td>\n",
       "      <td>0.061368</td>\n",
       "      <td>-0.004004</td>\n",
       "      <td>-0.036240</td>\n",
       "      <td>-0.011885</td>\n",
       "      <td>-5.717377</td>\n",
       "      <td>-0.821696</td>\n",
       "      <td>0.462393</td>\n",
       "      <td>0.240925</td>\n",
       "      <td>0.693147</td>\n",
       "      <td>0.970624</td>\n",
       "      <td>349.000000</td>\n",
       "    </tr>\n",
       "    <tr>\n",
       "      <th>75%</th>\n",
       "      <td>523.500000</td>\n",
       "      <td>1.0</td>\n",
       "      <td>43098.500000</td>\n",
       "      <td>1.0</td>\n",
       "      <td>0.156484</td>\n",
       "      <td>4.901667</td>\n",
       "      <td>1.468110</td>\n",
       "      <td>-0.356485</td>\n",
       "      <td>0.193843</td>\n",
       "      <td>0.004798</td>\n",
       "      <td>-0.007789</td>\n",
       "      <td>0.003450</td>\n",
       "      <td>-4.634900</td>\n",
       "      <td>-0.438169</td>\n",
       "      <td>1.090839</td>\n",
       "      <td>0.323604</td>\n",
       "      <td>1.609438</td>\n",
       "      <td>0.994596</td>\n",
       "      <td>523.500000</td>\n",
       "    </tr>\n",
       "    <tr>\n",
       "      <th>max</th>\n",
       "      <td>698.000000</td>\n",
       "      <td>1.0</td>\n",
       "      <td>164076.000000</td>\n",
       "      <td>1.0</td>\n",
       "      <td>0.339880</td>\n",
       "      <td>6.008333</td>\n",
       "      <td>6.816453</td>\n",
       "      <td>2.258738</td>\n",
       "      <td>0.961580</td>\n",
       "      <td>0.260453</td>\n",
       "      <td>0.067487</td>\n",
       "      <td>0.764826</td>\n",
       "      <td>1.499231</td>\n",
       "      <td>0.968213</td>\n",
       "      <td>306.693363</td>\n",
       "      <td>1.703276</td>\n",
       "      <td>4.491397</td>\n",
       "      <td>0.999994</td>\n",
       "      <td>698.000000</td>\n",
       "    </tr>\n",
       "  </tbody>\n",
       "</table>\n",
       "</div>"
      ],
      "text/plain": [
       "        record_id  weight             ID  Default       SP500  TreasuryRate  \\\n",
       "count  699.000000   699.0     699.000000    699.0  699.000000    699.000000   \n",
       "mean   349.000000     1.0   38509.204578      1.0    0.012405      2.903352   \n",
       "std    201.928205     0.0   13657.094510      0.0    0.180775      2.109144   \n",
       "min      0.000000     1.0   27013.000000      1.0   -0.393149      0.011833   \n",
       "25%    174.500000     1.0   31452.000000      1.0   -0.141862      1.000167   \n",
       "50%    349.000000     1.0   37055.000000      1.0    0.056611      2.920500   \n",
       "75%    523.500000     1.0   43098.500000      1.0    0.156484      4.901667   \n",
       "max    698.000000     1.0  164076.000000      1.0    0.339880      6.008333   \n",
       "\n",
       "         DTDLevel    DTDTrend  CashTALevel  CashTATrend   NITALevel  \\\n",
       "count  699.000000  699.000000   699.000000   699.000000  699.000000   \n",
       "mean     0.932806   -0.728808     0.145312    -0.020899   -0.079442   \n",
       "std      1.071320    0.636153     0.192920     0.063403    0.122074   \n",
       "min     -1.915575   -4.533151     0.000199    -0.401289   -1.359701   \n",
       "25%      0.219481   -1.118909     0.018510    -0.034122   -0.102946   \n",
       "50%      0.826871   -0.654507     0.061368    -0.004004   -0.036240   \n",
       "75%      1.468110   -0.356485     0.193843     0.004798   -0.007789   \n",
       "max      6.816453    2.258738     0.961580     0.260453    0.067487   \n",
       "\n",
       "        NITATrend   SizeLevel   SizeTrend          MB       SIGMA  \\\n",
       "count  699.000000  699.000000  699.000000  699.000000  699.000000   \n",
       "mean    -0.039779   -5.552409   -0.857714    0.869471    0.280060   \n",
       "std      0.133138    1.506288    0.600370   18.319273    0.175181   \n",
       "min     -1.151220   -9.728757   -3.348282 -340.063122    0.052238   \n",
       "25%     -0.053519   -6.571724   -1.209703    0.126738    0.183859   \n",
       "50%     -0.011885   -5.717377   -0.821696    0.462393    0.240925   \n",
       "75%      0.003450   -4.634900   -0.438169    1.090839    0.323604   \n",
       "max      0.764826    1.499231    0.968213  306.693363    1.703276   \n",
       "\n",
       "       MediaSentimentScore      scores    match_id  \n",
       "count           699.000000  699.000000  699.000000  \n",
       "mean              0.816003    0.887911  349.000000  \n",
       "std               1.005677    0.196328  201.928205  \n",
       "min              -1.723067    0.002421    0.000000  \n",
       "25%               0.000000    0.887276  174.500000  \n",
       "50%               0.693147    0.970624  349.000000  \n",
       "75%               1.609438    0.994596  523.500000  \n",
       "max               4.491397    0.999994  698.000000  "
      ]
     },
     "execution_count": 33,
     "metadata": {},
     "output_type": "execute_result"
    }
   ],
   "source": [
    "mtest[mtest[\"Default\"]==1].describe()"
   ]
  },
  {
   "cell_type": "code",
   "execution_count": 34,
   "metadata": {
    "scrolled": false
   },
   "outputs": [
    {
     "data": {
      "text/html": [
       "<div>\n",
       "<style scoped>\n",
       "    .dataframe tbody tr th:only-of-type {\n",
       "        vertical-align: middle;\n",
       "    }\n",
       "\n",
       "    .dataframe tbody tr th {\n",
       "        vertical-align: top;\n",
       "    }\n",
       "\n",
       "    .dataframe thead th {\n",
       "        text-align: right;\n",
       "    }\n",
       "</style>\n",
       "<table border=\"1\" class=\"dataframe\">\n",
       "  <thead>\n",
       "    <tr style=\"text-align: right;\">\n",
       "      <th></th>\n",
       "      <th>record_id</th>\n",
       "      <th>weight</th>\n",
       "      <th>ID</th>\n",
       "      <th>Default</th>\n",
       "      <th>SP500</th>\n",
       "      <th>TreasuryRate</th>\n",
       "      <th>DTDLevel</th>\n",
       "      <th>DTDTrend</th>\n",
       "      <th>CashTALevel</th>\n",
       "      <th>CashTATrend</th>\n",
       "      <th>NITALevel</th>\n",
       "      <th>NITATrend</th>\n",
       "      <th>SizeLevel</th>\n",
       "      <th>SizeTrend</th>\n",
       "      <th>MB</th>\n",
       "      <th>SIGMA</th>\n",
       "      <th>MediaSentimentScore</th>\n",
       "      <th>scores</th>\n",
       "      <th>match_id</th>\n",
       "    </tr>\n",
       "  </thead>\n",
       "  <tbody>\n",
       "    <tr>\n",
       "      <th>count</th>\n",
       "      <td>699.000000</td>\n",
       "      <td>699.000000</td>\n",
       "      <td>699.000000</td>\n",
       "      <td>699.0</td>\n",
       "      <td>699.000000</td>\n",
       "      <td>699.000000</td>\n",
       "      <td>699.000000</td>\n",
       "      <td>699.000000</td>\n",
       "      <td>699.000000</td>\n",
       "      <td>699.000000</td>\n",
       "      <td>699.000000</td>\n",
       "      <td>699.000000</td>\n",
       "      <td>699.000000</td>\n",
       "      <td>699.000000</td>\n",
       "      <td>699.000000</td>\n",
       "      <td>699.000000</td>\n",
       "      <td>699.000000</td>\n",
       "      <td>699.000000</td>\n",
       "      <td>699.000000</td>\n",
       "    </tr>\n",
       "    <tr>\n",
       "      <th>mean</th>\n",
       "      <td>2552.104435</td>\n",
       "      <td>0.253219</td>\n",
       "      <td>46635.557940</td>\n",
       "      <td>0.0</td>\n",
       "      <td>-0.086992</td>\n",
       "      <td>1.133085</td>\n",
       "      <td>1.188850</td>\n",
       "      <td>-0.712998</td>\n",
       "      <td>0.150994</td>\n",
       "      <td>-0.008026</td>\n",
       "      <td>-0.110409</td>\n",
       "      <td>-0.077898</td>\n",
       "      <td>-5.733427</td>\n",
       "      <td>-0.727344</td>\n",
       "      <td>2.261988</td>\n",
       "      <td>0.292934</td>\n",
       "      <td>1.451509</td>\n",
       "      <td>0.887543</td>\n",
       "      <td>349.000000</td>\n",
       "    </tr>\n",
       "    <tr>\n",
       "      <th>std</th>\n",
       "      <td>827.185742</td>\n",
       "      <td>0.341543</td>\n",
       "      <td>28003.254469</td>\n",
       "      <td>0.0</td>\n",
       "      <td>0.176762</td>\n",
       "      <td>1.672877</td>\n",
       "      <td>0.920659</td>\n",
       "      <td>0.598655</td>\n",
       "      <td>0.220714</td>\n",
       "      <td>0.048651</td>\n",
       "      <td>0.223638</td>\n",
       "      <td>0.148915</td>\n",
       "      <td>1.861275</td>\n",
       "      <td>0.516770</td>\n",
       "      <td>23.372564</td>\n",
       "      <td>0.150856</td>\n",
       "      <td>0.820918</td>\n",
       "      <td>0.196112</td>\n",
       "      <td>201.928205</td>\n",
       "    </tr>\n",
       "    <tr>\n",
       "      <th>min</th>\n",
       "      <td>771.000000</td>\n",
       "      <td>0.006623</td>\n",
       "      <td>27272.000000</td>\n",
       "      <td>0.0</td>\n",
       "      <td>-0.393149</td>\n",
       "      <td>0.013500</td>\n",
       "      <td>-0.909631</td>\n",
       "      <td>-2.717243</td>\n",
       "      <td>0.002179</td>\n",
       "      <td>-0.436856</td>\n",
       "      <td>-1.895624</td>\n",
       "      <td>-0.644980</td>\n",
       "      <td>-8.610962</td>\n",
       "      <td>-1.913401</td>\n",
       "      <td>-62.989512</td>\n",
       "      <td>0.044271</td>\n",
       "      <td>-0.366204</td>\n",
       "      <td>0.002422</td>\n",
       "      <td>0.000000</td>\n",
       "    </tr>\n",
       "    <tr>\n",
       "      <th>25%</th>\n",
       "      <td>1878.000000</td>\n",
       "      <td>0.030303</td>\n",
       "      <td>34119.000000</td>\n",
       "      <td>0.0</td>\n",
       "      <td>-0.222460</td>\n",
       "      <td>0.083167</td>\n",
       "      <td>0.800102</td>\n",
       "      <td>-0.914896</td>\n",
       "      <td>0.032109</td>\n",
       "      <td>-0.010545</td>\n",
       "      <td>-0.068527</td>\n",
       "      <td>-0.196624</td>\n",
       "      <td>-7.385258</td>\n",
       "      <td>-1.049622</td>\n",
       "      <td>0.218613</td>\n",
       "      <td>0.186958</td>\n",
       "      <td>0.873674</td>\n",
       "      <td>0.886453</td>\n",
       "      <td>174.500000</td>\n",
       "    </tr>\n",
       "    <tr>\n",
       "      <th>50%</th>\n",
       "      <td>2522.000000</td>\n",
       "      <td>0.090909</td>\n",
       "      <td>42161.000000</td>\n",
       "      <td>0.0</td>\n",
       "      <td>-0.026991</td>\n",
       "      <td>0.184167</td>\n",
       "      <td>0.946354</td>\n",
       "      <td>-0.871130</td>\n",
       "      <td>0.039549</td>\n",
       "      <td>-0.000821</td>\n",
       "      <td>-0.043760</td>\n",
       "      <td>-0.027410</td>\n",
       "      <td>-6.009293</td>\n",
       "      <td>-0.803033</td>\n",
       "      <td>0.323463</td>\n",
       "      <td>0.283899</td>\n",
       "      <td>1.609438</td>\n",
       "      <td>0.971522</td>\n",
       "      <td>349.000000</td>\n",
       "    </tr>\n",
       "    <tr>\n",
       "      <th>75%</th>\n",
       "      <td>3446.000000</td>\n",
       "      <td>0.333333</td>\n",
       "      <td>44399.000000</td>\n",
       "      <td>0.0</td>\n",
       "      <td>0.007036</td>\n",
       "      <td>1.275167</td>\n",
       "      <td>1.575515</td>\n",
       "      <td>-0.355893</td>\n",
       "      <td>0.166949</td>\n",
       "      <td>0.022399</td>\n",
       "      <td>-0.013452</td>\n",
       "      <td>0.000054</td>\n",
       "      <td>-4.934373</td>\n",
       "      <td>-0.325029</td>\n",
       "      <td>0.981439</td>\n",
       "      <td>0.357496</td>\n",
       "      <td>2.197225</td>\n",
       "      <td>0.994588</td>\n",
       "      <td>523.500000</td>\n",
       "    </tr>\n",
       "    <tr>\n",
       "      <th>max</th>\n",
       "      <td>3576.000000</td>\n",
       "      <td>1.000000</td>\n",
       "      <td>190113.000000</td>\n",
       "      <td>0.0</td>\n",
       "      <td>0.339880</td>\n",
       "      <td>6.008333</td>\n",
       "      <td>5.889547</td>\n",
       "      <td>1.476162</td>\n",
       "      <td>0.956470</td>\n",
       "      <td>0.190893</td>\n",
       "      <td>0.549505</td>\n",
       "      <td>1.777135</td>\n",
       "      <td>0.058799</td>\n",
       "      <td>1.024746</td>\n",
       "      <td>487.406892</td>\n",
       "      <td>1.380465</td>\n",
       "      <td>3.583519</td>\n",
       "      <td>0.996693</td>\n",
       "      <td>698.000000</td>\n",
       "    </tr>\n",
       "  </tbody>\n",
       "</table>\n",
       "</div>"
      ],
      "text/plain": [
       "         record_id      weight             ID  Default       SP500  \\\n",
       "count   699.000000  699.000000     699.000000    699.0  699.000000   \n",
       "mean   2552.104435    0.253219   46635.557940      0.0   -0.086992   \n",
       "std     827.185742    0.341543   28003.254469      0.0    0.176762   \n",
       "min     771.000000    0.006623   27272.000000      0.0   -0.393149   \n",
       "25%    1878.000000    0.030303   34119.000000      0.0   -0.222460   \n",
       "50%    2522.000000    0.090909   42161.000000      0.0   -0.026991   \n",
       "75%    3446.000000    0.333333   44399.000000      0.0    0.007036   \n",
       "max    3576.000000    1.000000  190113.000000      0.0    0.339880   \n",
       "\n",
       "       TreasuryRate    DTDLevel    DTDTrend  CashTALevel  CashTATrend  \\\n",
       "count    699.000000  699.000000  699.000000   699.000000   699.000000   \n",
       "mean       1.133085    1.188850   -0.712998     0.150994    -0.008026   \n",
       "std        1.672877    0.920659    0.598655     0.220714     0.048651   \n",
       "min        0.013500   -0.909631   -2.717243     0.002179    -0.436856   \n",
       "25%        0.083167    0.800102   -0.914896     0.032109    -0.010545   \n",
       "50%        0.184167    0.946354   -0.871130     0.039549    -0.000821   \n",
       "75%        1.275167    1.575515   -0.355893     0.166949     0.022399   \n",
       "max        6.008333    5.889547    1.476162     0.956470     0.190893   \n",
       "\n",
       "        NITALevel   NITATrend   SizeLevel   SizeTrend          MB       SIGMA  \\\n",
       "count  699.000000  699.000000  699.000000  699.000000  699.000000  699.000000   \n",
       "mean    -0.110409   -0.077898   -5.733427   -0.727344    2.261988    0.292934   \n",
       "std      0.223638    0.148915    1.861275    0.516770   23.372564    0.150856   \n",
       "min     -1.895624   -0.644980   -8.610962   -1.913401  -62.989512    0.044271   \n",
       "25%     -0.068527   -0.196624   -7.385258   -1.049622    0.218613    0.186958   \n",
       "50%     -0.043760   -0.027410   -6.009293   -0.803033    0.323463    0.283899   \n",
       "75%     -0.013452    0.000054   -4.934373   -0.325029    0.981439    0.357496   \n",
       "max      0.549505    1.777135    0.058799    1.024746  487.406892    1.380465   \n",
       "\n",
       "       MediaSentimentScore      scores    match_id  \n",
       "count           699.000000  699.000000  699.000000  \n",
       "mean              1.451509    0.887543  349.000000  \n",
       "std               0.820918    0.196112  201.928205  \n",
       "min              -0.366204    0.002422    0.000000  \n",
       "25%               0.873674    0.886453  174.500000  \n",
       "50%               1.609438    0.971522  349.000000  \n",
       "75%               2.197225    0.994588  523.500000  \n",
       "max               3.583519    0.996693  698.000000  "
      ]
     },
     "execution_count": 34,
     "metadata": {},
     "output_type": "execute_result"
    }
   ],
   "source": [
    "mtest[mtest[\"Default\"]==0].describe()"
   ]
  },
  {
   "cell_type": "code",
   "execution_count": 96,
   "metadata": {},
   "outputs": [],
   "source": [
    "x = mtest.iloc[:,6:-2]\n",
    "y = mtest.iloc[:,3]"
   ]
  },
  {
   "cell_type": "code",
   "execution_count": 97,
   "metadata": {},
   "outputs": [
    {
     "name": "stdout",
     "output_type": "stream",
     "text": [
      "(1118, 11) (1118,)\n",
      "(280, 11) (280,)\n"
     ]
    }
   ],
   "source": [
    "from sklearn.model_selection import train_test_split\n",
    "x_train, x_test, y_train , y_test = train_test_split(x, y,test_size=0.2 ,random_state=414)\n",
    "print(x_train.shape, y_train.shape)\n",
    "print(x_test.shape ,y_test.shape)"
   ]
  },
  {
   "cell_type": "code",
   "execution_count": 98,
   "metadata": {},
   "outputs": [
    {
     "data": {
      "text/html": [
       "<div>\n",
       "<style scoped>\n",
       "    .dataframe tbody tr th:only-of-type {\n",
       "        vertical-align: middle;\n",
       "    }\n",
       "\n",
       "    .dataframe tbody tr th {\n",
       "        vertical-align: top;\n",
       "    }\n",
       "\n",
       "    .dataframe thead th {\n",
       "        text-align: right;\n",
       "    }\n",
       "</style>\n",
       "<table border=\"1\" class=\"dataframe\">\n",
       "  <thead>\n",
       "    <tr style=\"text-align: right;\">\n",
       "      <th></th>\n",
       "      <th>record_id</th>\n",
       "      <th>weight</th>\n",
       "      <th>ID</th>\n",
       "      <th>Default</th>\n",
       "      <th>SP500</th>\n",
       "      <th>TreasuryRate</th>\n",
       "      <th>DTDLevel</th>\n",
       "      <th>DTDTrend</th>\n",
       "      <th>CashTALevel</th>\n",
       "      <th>CashTATrend</th>\n",
       "      <th>NITALevel</th>\n",
       "      <th>NITATrend</th>\n",
       "      <th>SizeLevel</th>\n",
       "      <th>SizeTrend</th>\n",
       "      <th>MB</th>\n",
       "      <th>SIGMA</th>\n",
       "      <th>MediaSentimentScore</th>\n",
       "      <th>scores</th>\n",
       "      <th>match_id</th>\n",
       "    </tr>\n",
       "  </thead>\n",
       "  <tbody>\n",
       "    <tr>\n",
       "      <th>0</th>\n",
       "      <td>0</td>\n",
       "      <td>1.000000</td>\n",
       "      <td>32065.0</td>\n",
       "      <td>1</td>\n",
       "      <td>0.283508</td>\n",
       "      <td>5.085000</td>\n",
       "      <td>0.086307</td>\n",
       "      <td>-0.513143</td>\n",
       "      <td>0.000199</td>\n",
       "      <td>-0.000007</td>\n",
       "      <td>-0.016454</td>\n",
       "      <td>0.005209</td>\n",
       "      <td>-6.530020</td>\n",
       "      <td>-0.435409</td>\n",
       "      <td>0.555411</td>\n",
       "      <td>0.195891</td>\n",
       "      <td>0.000000</td>\n",
       "      <td>0.942486</td>\n",
       "      <td>0</td>\n",
       "    </tr>\n",
       "    <tr>\n",
       "      <th>811</th>\n",
       "      <td>1663</td>\n",
       "      <td>0.142857</td>\n",
       "      <td>34193.0</td>\n",
       "      <td>0</td>\n",
       "      <td>-0.117824</td>\n",
       "      <td>1.765000</td>\n",
       "      <td>0.952814</td>\n",
       "      <td>-0.043492</td>\n",
       "      <td>0.310103</td>\n",
       "      <td>-0.118998</td>\n",
       "      <td>-0.287842</td>\n",
       "      <td>-0.012202</td>\n",
       "      <td>-7.073686</td>\n",
       "      <td>-0.092634</td>\n",
       "      <td>-2.672501</td>\n",
       "      <td>0.308557</td>\n",
       "      <td>3.496508</td>\n",
       "      <td>0.941928</td>\n",
       "      <td>0</td>\n",
       "    </tr>\n",
       "    <tr>\n",
       "      <th>808</th>\n",
       "      <td>1653</td>\n",
       "      <td>0.333333</td>\n",
       "      <td>33318.0</td>\n",
       "      <td>0</td>\n",
       "      <td>-0.338656</td>\n",
       "      <td>0.176667</td>\n",
       "      <td>0.280462</td>\n",
       "      <td>-0.337952</td>\n",
       "      <td>0.214830</td>\n",
       "      <td>0.032865</td>\n",
       "      <td>-0.039521</td>\n",
       "      <td>-0.012392</td>\n",
       "      <td>-3.888488</td>\n",
       "      <td>-0.696756</td>\n",
       "      <td>0.362090</td>\n",
       "      <td>0.237517</td>\n",
       "      <td>0.366204</td>\n",
       "      <td>0.907165</td>\n",
       "      <td>1</td>\n",
       "    </tr>\n",
       "    <tr>\n",
       "      <th>1</th>\n",
       "      <td>1</td>\n",
       "      <td>1.000000</td>\n",
       "      <td>29690.0</td>\n",
       "      <td>1</td>\n",
       "      <td>0.242616</td>\n",
       "      <td>5.036667</td>\n",
       "      <td>1.686283</td>\n",
       "      <td>-1.477297</td>\n",
       "      <td>0.072509</td>\n",
       "      <td>0.018146</td>\n",
       "      <td>-0.006550</td>\n",
       "      <td>-0.035763</td>\n",
       "      <td>-6.005441</td>\n",
       "      <td>-0.768428</td>\n",
       "      <td>0.454989</td>\n",
       "      <td>0.137869</td>\n",
       "      <td>1.842068</td>\n",
       "      <td>0.908289</td>\n",
       "      <td>1</td>\n",
       "    </tr>\n",
       "    <tr>\n",
       "      <th>2</th>\n",
       "      <td>2</td>\n",
       "      <td>1.000000</td>\n",
       "      <td>28736.0</td>\n",
       "      <td>1</td>\n",
       "      <td>0.283508</td>\n",
       "      <td>5.085000</td>\n",
       "      <td>1.215289</td>\n",
       "      <td>-1.619508</td>\n",
       "      <td>0.026962</td>\n",
       "      <td>0.039266</td>\n",
       "      <td>-0.020610</td>\n",
       "      <td>-0.082383</td>\n",
       "      <td>-5.220132</td>\n",
       "      <td>-1.658265</td>\n",
       "      <td>0.430880</td>\n",
       "      <td>0.246562</td>\n",
       "      <td>1.220680</td>\n",
       "      <td>0.996847</td>\n",
       "      <td>2</td>\n",
       "    </tr>\n",
       "    <tr>\n",
       "      <th>1238</th>\n",
       "      <td>3529</td>\n",
       "      <td>0.006623</td>\n",
       "      <td>44399.0</td>\n",
       "      <td>0</td>\n",
       "      <td>0.007036</td>\n",
       "      <td>0.083167</td>\n",
       "      <td>0.864184</td>\n",
       "      <td>-0.914896</td>\n",
       "      <td>0.032109</td>\n",
       "      <td>0.022399</td>\n",
       "      <td>-0.043760</td>\n",
       "      <td>-0.240859</td>\n",
       "      <td>-7.385258</td>\n",
       "      <td>-1.049622</td>\n",
       "      <td>0.218613</td>\n",
       "      <td>0.357496</td>\n",
       "      <td>2.197225</td>\n",
       "      <td>0.996693</td>\n",
       "      <td>2</td>\n",
       "    </tr>\n",
       "    <tr>\n",
       "      <th>3</th>\n",
       "      <td>3</td>\n",
       "      <td>1.000000</td>\n",
       "      <td>33466.0</td>\n",
       "      <td>1</td>\n",
       "      <td>0.281967</td>\n",
       "      <td>5.051667</td>\n",
       "      <td>1.563262</td>\n",
       "      <td>-1.069329</td>\n",
       "      <td>0.010644</td>\n",
       "      <td>-0.002843</td>\n",
       "      <td>0.003499</td>\n",
       "      <td>-0.035563</td>\n",
       "      <td>-6.165693</td>\n",
       "      <td>-0.692513</td>\n",
       "      <td>0.265799</td>\n",
       "      <td>0.145981</td>\n",
       "      <td>2.197225</td>\n",
       "      <td>0.900551</td>\n",
       "      <td>3</td>\n",
       "    </tr>\n",
       "    <tr>\n",
       "      <th>1392</th>\n",
       "      <td>3576</td>\n",
       "      <td>0.166667</td>\n",
       "      <td>164793.0</td>\n",
       "      <td>0</td>\n",
       "      <td>-0.023500</td>\n",
       "      <td>0.218667</td>\n",
       "      <td>0.547972</td>\n",
       "      <td>-0.159658</td>\n",
       "      <td>0.098657</td>\n",
       "      <td>-0.000821</td>\n",
       "      <td>-0.024188</td>\n",
       "      <td>0.003428</td>\n",
       "      <td>-5.195989</td>\n",
       "      <td>-0.627176</td>\n",
       "      <td>-0.403192</td>\n",
       "      <td>0.208492</td>\n",
       "      <td>0.000000</td>\n",
       "      <td>0.901284</td>\n",
       "      <td>3</td>\n",
       "    </tr>\n",
       "    <tr>\n",
       "      <th>4</th>\n",
       "      <td>4</td>\n",
       "      <td>1.000000</td>\n",
       "      <td>32336.0</td>\n",
       "      <td>1</td>\n",
       "      <td>0.242616</td>\n",
       "      <td>5.036667</td>\n",
       "      <td>0.644263</td>\n",
       "      <td>-0.157055</td>\n",
       "      <td>0.053958</td>\n",
       "      <td>0.078209</td>\n",
       "      <td>-0.015186</td>\n",
       "      <td>0.017372</td>\n",
       "      <td>-4.863716</td>\n",
       "      <td>-0.178324</td>\n",
       "      <td>1.180024</td>\n",
       "      <td>0.132618</td>\n",
       "      <td>2.197225</td>\n",
       "      <td>0.542198</td>\n",
       "      <td>4</td>\n",
       "    </tr>\n",
       "    <tr>\n",
       "      <th>1048</th>\n",
       "      <td>2522</td>\n",
       "      <td>1.000000</td>\n",
       "      <td>47647.0</td>\n",
       "      <td>0</td>\n",
       "      <td>-0.199549</td>\n",
       "      <td>0.142500</td>\n",
       "      <td>3.152017</td>\n",
       "      <td>-1.714018</td>\n",
       "      <td>0.304893</td>\n",
       "      <td>-0.019063</td>\n",
       "      <td>-0.063707</td>\n",
       "      <td>-0.115528</td>\n",
       "      <td>-6.073637</td>\n",
       "      <td>-0.118193</td>\n",
       "      <td>1.968615</td>\n",
       "      <td>0.340775</td>\n",
       "      <td>0.321888</td>\n",
       "      <td>0.542130</td>\n",
       "      <td>4</td>\n",
       "    </tr>\n",
       "    <tr>\n",
       "      <th>5</th>\n",
       "      <td>5</td>\n",
       "      <td>1.000000</td>\n",
       "      <td>34125.0</td>\n",
       "      <td>1</td>\n",
       "      <td>0.281967</td>\n",
       "      <td>5.051667</td>\n",
       "      <td>0.688600</td>\n",
       "      <td>-0.486257</td>\n",
       "      <td>0.017397</td>\n",
       "      <td>-0.004314</td>\n",
       "      <td>-0.013532</td>\n",
       "      <td>0.007054</td>\n",
       "      <td>-4.580366</td>\n",
       "      <td>-0.450380</td>\n",
       "      <td>-0.763768</td>\n",
       "      <td>0.190497</td>\n",
       "      <td>0.833961</td>\n",
       "      <td>0.836816</td>\n",
       "      <td>5</td>\n",
       "    </tr>\n",
       "    <tr>\n",
       "      <th>1110</th>\n",
       "      <td>2843</td>\n",
       "      <td>1.000000</td>\n",
       "      <td>29589.0</td>\n",
       "      <td>0</td>\n",
       "      <td>0.059301</td>\n",
       "      <td>0.145000</td>\n",
       "      <td>1.370354</td>\n",
       "      <td>-0.497938</td>\n",
       "      <td>0.249494</td>\n",
       "      <td>0.008839</td>\n",
       "      <td>-0.084334</td>\n",
       "      <td>-0.207905</td>\n",
       "      <td>-4.146460</td>\n",
       "      <td>-0.499832</td>\n",
       "      <td>0.683893</td>\n",
       "      <td>0.101398</td>\n",
       "      <td>1.194506</td>\n",
       "      <td>0.836617</td>\n",
       "      <td>5</td>\n",
       "    </tr>\n",
       "    <tr>\n",
       "      <th>6</th>\n",
       "      <td>6</td>\n",
       "      <td>1.000000</td>\n",
       "      <td>28458.0</td>\n",
       "      <td>1</td>\n",
       "      <td>0.281967</td>\n",
       "      <td>5.051667</td>\n",
       "      <td>4.124650</td>\n",
       "      <td>-1.650943</td>\n",
       "      <td>0.116231</td>\n",
       "      <td>0.003388</td>\n",
       "      <td>-0.361586</td>\n",
       "      <td>-0.041349</td>\n",
       "      <td>-4.994066</td>\n",
       "      <td>-0.388738</td>\n",
       "      <td>-1.273420</td>\n",
       "      <td>0.113152</td>\n",
       "      <td>-1.609438</td>\n",
       "      <td>0.704649</td>\n",
       "      <td>6</td>\n",
       "    </tr>\n",
       "    <tr>\n",
       "      <th>741</th>\n",
       "      <td>1115</td>\n",
       "      <td>1.000000</td>\n",
       "      <td>30159.0</td>\n",
       "      <td>0</td>\n",
       "      <td>0.057261</td>\n",
       "      <td>0.972833</td>\n",
       "      <td>0.562447</td>\n",
       "      <td>-0.078275</td>\n",
       "      <td>0.063744</td>\n",
       "      <td>0.010125</td>\n",
       "      <td>-0.033330</td>\n",
       "      <td>0.024007</td>\n",
       "      <td>-7.477708</td>\n",
       "      <td>0.068559</td>\n",
       "      <td>0.455618</td>\n",
       "      <td>0.244692</td>\n",
       "      <td>1.386294</td>\n",
       "      <td>0.705007</td>\n",
       "      <td>6</td>\n",
       "    </tr>\n",
       "    <tr>\n",
       "      <th>1023</th>\n",
       "      <td>2514</td>\n",
       "      <td>0.066667</td>\n",
       "      <td>32690.0</td>\n",
       "      <td>0</td>\n",
       "      <td>-0.110734</td>\n",
       "      <td>0.129167</td>\n",
       "      <td>0.438778</td>\n",
       "      <td>-0.305182</td>\n",
       "      <td>0.008357</td>\n",
       "      <td>-0.004519</td>\n",
       "      <td>-0.029669</td>\n",
       "      <td>-0.055325</td>\n",
       "      <td>-5.562043</td>\n",
       "      <td>-0.636753</td>\n",
       "      <td>0.792933</td>\n",
       "      <td>0.197103</td>\n",
       "      <td>1.945910</td>\n",
       "      <td>0.954899</td>\n",
       "      <td>7</td>\n",
       "    </tr>\n",
       "    <tr>\n",
       "      <th>7</th>\n",
       "      <td>7</td>\n",
       "      <td>1.000000</td>\n",
       "      <td>34353.0</td>\n",
       "      <td>1</td>\n",
       "      <td>0.295893</td>\n",
       "      <td>5.055000</td>\n",
       "      <td>0.162890</td>\n",
       "      <td>-0.280213</td>\n",
       "      <td>0.029858</td>\n",
       "      <td>-0.015734</td>\n",
       "      <td>-0.028702</td>\n",
       "      <td>0.000524</td>\n",
       "      <td>-6.145973</td>\n",
       "      <td>-0.530578</td>\n",
       "      <td>1.127536</td>\n",
       "      <td>0.259664</td>\n",
       "      <td>0.519860</td>\n",
       "      <td>0.955548</td>\n",
       "      <td>7</td>\n",
       "    </tr>\n",
       "    <tr>\n",
       "      <th>8</th>\n",
       "      <td>8</td>\n",
       "      <td>1.000000</td>\n",
       "      <td>27186.0</td>\n",
       "      <td>1</td>\n",
       "      <td>0.281967</td>\n",
       "      <td>5.051667</td>\n",
       "      <td>-0.768166</td>\n",
       "      <td>-0.128713</td>\n",
       "      <td>0.031495</td>\n",
       "      <td>-0.003640</td>\n",
       "      <td>-0.070716</td>\n",
       "      <td>0.021168</td>\n",
       "      <td>-5.708513</td>\n",
       "      <td>-0.212703</td>\n",
       "      <td>-0.264471</td>\n",
       "      <td>0.150277</td>\n",
       "      <td>0.000000</td>\n",
       "      <td>0.934409</td>\n",
       "      <td>8</td>\n",
       "    </tr>\n",
       "    <tr>\n",
       "      <th>1113</th>\n",
       "      <td>2862</td>\n",
       "      <td>1.000000</td>\n",
       "      <td>39902.0</td>\n",
       "      <td>0</td>\n",
       "      <td>0.080527</td>\n",
       "      <td>0.135833</td>\n",
       "      <td>0.695275</td>\n",
       "      <td>-0.326181</td>\n",
       "      <td>0.216367</td>\n",
       "      <td>-0.129539</td>\n",
       "      <td>0.549505</td>\n",
       "      <td>-0.582159</td>\n",
       "      <td>-3.817847</td>\n",
       "      <td>-1.325224</td>\n",
       "      <td>-0.480066</td>\n",
       "      <td>0.260560</td>\n",
       "      <td>0.000000</td>\n",
       "      <td>0.934443</td>\n",
       "      <td>8</td>\n",
       "    </tr>\n",
       "    <tr>\n",
       "      <th>9</th>\n",
       "      <td>9</td>\n",
       "      <td>1.000000</td>\n",
       "      <td>31128.0</td>\n",
       "      <td>1</td>\n",
       "      <td>0.295893</td>\n",
       "      <td>5.055000</td>\n",
       "      <td>0.691163</td>\n",
       "      <td>-0.565698</td>\n",
       "      <td>0.096498</td>\n",
       "      <td>0.104491</td>\n",
       "      <td>-0.076687</td>\n",
       "      <td>-0.068434</td>\n",
       "      <td>-6.673858</td>\n",
       "      <td>-0.961915</td>\n",
       "      <td>0.447975</td>\n",
       "      <td>0.143305</td>\n",
       "      <td>0.000000</td>\n",
       "      <td>0.975522</td>\n",
       "      <td>9</td>\n",
       "    </tr>\n",
       "    <tr>\n",
       "      <th>915</th>\n",
       "      <td>2053</td>\n",
       "      <td>0.076923</td>\n",
       "      <td>38114.0</td>\n",
       "      <td>0</td>\n",
       "      <td>-0.180991</td>\n",
       "      <td>3.325000</td>\n",
       "      <td>1.421590</td>\n",
       "      <td>-1.306273</td>\n",
       "      <td>0.400542</td>\n",
       "      <td>-0.131402</td>\n",
       "      <td>-0.024174</td>\n",
       "      <td>-0.011633</td>\n",
       "      <td>0.058799</td>\n",
       "      <td>-1.781635</td>\n",
       "      <td>0.602027</td>\n",
       "      <td>0.204463</td>\n",
       "      <td>0.597253</td>\n",
       "      <td>0.974400</td>\n",
       "      <td>9</td>\n",
       "    </tr>\n",
       "    <tr>\n",
       "      <th>997</th>\n",
       "      <td>2415</td>\n",
       "      <td>1.000000</td>\n",
       "      <td>41669.0</td>\n",
       "      <td>0</td>\n",
       "      <td>-0.028250</td>\n",
       "      <td>0.115833</td>\n",
       "      <td>0.132011</td>\n",
       "      <td>-0.200323</td>\n",
       "      <td>0.059381</td>\n",
       "      <td>-0.017327</td>\n",
       "      <td>0.002172</td>\n",
       "      <td>-0.000855</td>\n",
       "      <td>-6.194829</td>\n",
       "      <td>-0.065553</td>\n",
       "      <td>0.555895</td>\n",
       "      <td>0.149901</td>\n",
       "      <td>2.197225</td>\n",
       "      <td>0.757980</td>\n",
       "      <td>10</td>\n",
       "    </tr>\n",
       "    <tr>\n",
       "      <th>10</th>\n",
       "      <td>10</td>\n",
       "      <td>1.000000</td>\n",
       "      <td>38955.0</td>\n",
       "      <td>1</td>\n",
       "      <td>0.326854</td>\n",
       "      <td>5.021667</td>\n",
       "      <td>2.291976</td>\n",
       "      <td>-1.200072</td>\n",
       "      <td>0.360796</td>\n",
       "      <td>-0.219292</td>\n",
       "      <td>-0.043512</td>\n",
       "      <td>-0.113587</td>\n",
       "      <td>-4.592110</td>\n",
       "      <td>-0.421650</td>\n",
       "      <td>1.782954</td>\n",
       "      <td>0.122978</td>\n",
       "      <td>1.220680</td>\n",
       "      <td>0.758025</td>\n",
       "      <td>10</td>\n",
       "    </tr>\n",
       "    <tr>\n",
       "      <th>797</th>\n",
       "      <td>1648</td>\n",
       "      <td>0.100000</td>\n",
       "      <td>33403.0</td>\n",
       "      <td>0</td>\n",
       "      <td>0.196261</td>\n",
       "      <td>4.411667</td>\n",
       "      <td>0.988640</td>\n",
       "      <td>-0.525880</td>\n",
       "      <td>0.042353</td>\n",
       "      <td>0.017875</td>\n",
       "      <td>-0.013452</td>\n",
       "      <td>-0.000827</td>\n",
       "      <td>-5.540663</td>\n",
       "      <td>-0.781453</td>\n",
       "      <td>0.491173</td>\n",
       "      <td>0.343443</td>\n",
       "      <td>1.039721</td>\n",
       "      <td>0.947219</td>\n",
       "      <td>11</td>\n",
       "    </tr>\n",
       "    <tr>\n",
       "      <th>11</th>\n",
       "      <td>11</td>\n",
       "      <td>1.000000</td>\n",
       "      <td>38301.0</td>\n",
       "      <td>1</td>\n",
       "      <td>0.328618</td>\n",
       "      <td>5.015000</td>\n",
       "      <td>1.031183</td>\n",
       "      <td>-0.387968</td>\n",
       "      <td>0.214589</td>\n",
       "      <td>0.007569</td>\n",
       "      <td>-0.273110</td>\n",
       "      <td>-0.042311</td>\n",
       "      <td>-4.232021</td>\n",
       "      <td>-0.535314</td>\n",
       "      <td>-1.181855</td>\n",
       "      <td>0.216441</td>\n",
       "      <td>0.833961</td>\n",
       "      <td>0.946281</td>\n",
       "      <td>11</td>\n",
       "    </tr>\n",
       "    <tr>\n",
       "      <th>12</th>\n",
       "      <td>12</td>\n",
       "      <td>1.000000</td>\n",
       "      <td>38157.0</td>\n",
       "      <td>1</td>\n",
       "      <td>0.242616</td>\n",
       "      <td>5.036667</td>\n",
       "      <td>0.136831</td>\n",
       "      <td>-0.117981</td>\n",
       "      <td>0.082104</td>\n",
       "      <td>0.007277</td>\n",
       "      <td>-0.052671</td>\n",
       "      <td>-0.007753</td>\n",
       "      <td>-7.749426</td>\n",
       "      <td>-0.078135</td>\n",
       "      <td>3.744618</td>\n",
       "      <td>0.322711</td>\n",
       "      <td>0.000000</td>\n",
       "      <td>0.910642</td>\n",
       "      <td>12</td>\n",
       "    </tr>\n",
       "    <tr>\n",
       "      <th>1063</th>\n",
       "      <td>2628</td>\n",
       "      <td>0.500000</td>\n",
       "      <td>46024.0</td>\n",
       "      <td>0</td>\n",
       "      <td>-0.311110</td>\n",
       "      <td>0.563333</td>\n",
       "      <td>1.754345</td>\n",
       "      <td>-0.934922</td>\n",
       "      <td>0.378845</td>\n",
       "      <td>0.052539</td>\n",
       "      <td>-0.028703</td>\n",
       "      <td>-0.016899</td>\n",
       "      <td>-6.540437</td>\n",
       "      <td>-1.053197</td>\n",
       "      <td>0.334436</td>\n",
       "      <td>0.217307</td>\n",
       "      <td>0.693147</td>\n",
       "      <td>0.910780</td>\n",
       "      <td>12</td>\n",
       "    </tr>\n",
       "    <tr>\n",
       "      <th>13</th>\n",
       "      <td>13</td>\n",
       "      <td>1.000000</td>\n",
       "      <td>37802.0</td>\n",
       "      <td>1</td>\n",
       "      <td>0.326854</td>\n",
       "      <td>5.021667</td>\n",
       "      <td>0.761387</td>\n",
       "      <td>-0.840307</td>\n",
       "      <td>0.247612</td>\n",
       "      <td>-0.151839</td>\n",
       "      <td>-0.062379</td>\n",
       "      <td>-0.124443</td>\n",
       "      <td>-6.628332</td>\n",
       "      <td>-0.535334</td>\n",
       "      <td>0.981649</td>\n",
       "      <td>0.293726</td>\n",
       "      <td>1.708952</td>\n",
       "      <td>0.980814</td>\n",
       "      <td>13</td>\n",
       "    </tr>\n",
       "    <tr>\n",
       "      <th>895</th>\n",
       "      <td>1953</td>\n",
       "      <td>0.090909</td>\n",
       "      <td>42161.0</td>\n",
       "      <td>0</td>\n",
       "      <td>0.126674</td>\n",
       "      <td>5.361667</td>\n",
       "      <td>2.106442</td>\n",
       "      <td>-2.145249</td>\n",
       "      <td>0.004798</td>\n",
       "      <td>0.003762</td>\n",
       "      <td>-0.004293</td>\n",
       "      <td>0.014797</td>\n",
       "      <td>-1.267815</td>\n",
       "      <td>-1.913401</td>\n",
       "      <td>0.323463</td>\n",
       "      <td>0.087421</td>\n",
       "      <td>2.890372</td>\n",
       "      <td>0.980645</td>\n",
       "      <td>13</td>\n",
       "    </tr>\n",
       "    <tr>\n",
       "      <th>1129</th>\n",
       "      <td>2902</td>\n",
       "      <td>0.047619</td>\n",
       "      <td>45577.0</td>\n",
       "      <td>0</td>\n",
       "      <td>-0.388018</td>\n",
       "      <td>0.206667</td>\n",
       "      <td>2.431983</td>\n",
       "      <td>-1.777158</td>\n",
       "      <td>0.129816</td>\n",
       "      <td>-0.010545</td>\n",
       "      <td>-0.068527</td>\n",
       "      <td>0.021107</td>\n",
       "      <td>-5.620732</td>\n",
       "      <td>-1.551529</td>\n",
       "      <td>0.648793</td>\n",
       "      <td>0.241713</td>\n",
       "      <td>0.366204</td>\n",
       "      <td>0.985833</td>\n",
       "      <td>14</td>\n",
       "    </tr>\n",
       "    <tr>\n",
       "      <th>14</th>\n",
       "      <td>14</td>\n",
       "      <td>1.000000</td>\n",
       "      <td>32003.0</td>\n",
       "      <td>1</td>\n",
       "      <td>0.326854</td>\n",
       "      <td>5.021667</td>\n",
       "      <td>-0.405548</td>\n",
       "      <td>-0.435118</td>\n",
       "      <td>0.022857</td>\n",
       "      <td>0.034338</td>\n",
       "      <td>-0.086020</td>\n",
       "      <td>0.026429</td>\n",
       "      <td>-6.932710</td>\n",
       "      <td>-0.700934</td>\n",
       "      <td>-0.181926</td>\n",
       "      <td>0.227311</td>\n",
       "      <td>1.708952</td>\n",
       "      <td>0.987262</td>\n",
       "      <td>14</td>\n",
       "    </tr>\n",
       "    <tr>\n",
       "      <th>...</th>\n",
       "      <td>...</td>\n",
       "      <td>...</td>\n",
       "      <td>...</td>\n",
       "      <td>...</td>\n",
       "      <td>...</td>\n",
       "      <td>...</td>\n",
       "      <td>...</td>\n",
       "      <td>...</td>\n",
       "      <td>...</td>\n",
       "      <td>...</td>\n",
       "      <td>...</td>\n",
       "      <td>...</td>\n",
       "      <td>...</td>\n",
       "      <td>...</td>\n",
       "      <td>...</td>\n",
       "      <td>...</td>\n",
       "      <td>...</td>\n",
       "      <td>...</td>\n",
       "      <td>...</td>\n",
       "    </tr>\n",
       "    <tr>\n",
       "      <th>847</th>\n",
       "      <td>1841</td>\n",
       "      <td>0.200000</td>\n",
       "      <td>38926.0</td>\n",
       "      <td>0</td>\n",
       "      <td>0.161905</td>\n",
       "      <td>4.490000</td>\n",
       "      <td>2.175005</td>\n",
       "      <td>-1.706297</td>\n",
       "      <td>0.038745</td>\n",
       "      <td>-0.004669</td>\n",
       "      <td>-0.024651</td>\n",
       "      <td>0.008938</td>\n",
       "      <td>-6.889414</td>\n",
       "      <td>-1.180650</td>\n",
       "      <td>0.966787</td>\n",
       "      <td>0.311007</td>\n",
       "      <td>1.220680</td>\n",
       "      <td>0.980313</td>\n",
       "      <td>684</td>\n",
       "    </tr>\n",
       "    <tr>\n",
       "      <th>684</th>\n",
       "      <td>684</td>\n",
       "      <td>1.000000</td>\n",
       "      <td>34430.0</td>\n",
       "      <td>1</td>\n",
       "      <td>0.038230</td>\n",
       "      <td>0.021833</td>\n",
       "      <td>1.356744</td>\n",
       "      <td>-1.311606</td>\n",
       "      <td>0.027301</td>\n",
       "      <td>-0.010582</td>\n",
       "      <td>-0.005820</td>\n",
       "      <td>0.005447</td>\n",
       "      <td>-4.716154</td>\n",
       "      <td>-1.288635</td>\n",
       "      <td>1.296889</td>\n",
       "      <td>0.201371</td>\n",
       "      <td>0.597253</td>\n",
       "      <td>0.979119</td>\n",
       "      <td>684</td>\n",
       "    </tr>\n",
       "    <tr>\n",
       "      <th>1055</th>\n",
       "      <td>2572</td>\n",
       "      <td>0.500000</td>\n",
       "      <td>47778.0</td>\n",
       "      <td>0</td>\n",
       "      <td>0.155290</td>\n",
       "      <td>0.150000</td>\n",
       "      <td>1.320949</td>\n",
       "      <td>-0.878447</td>\n",
       "      <td>0.762918</td>\n",
       "      <td>0.080499</td>\n",
       "      <td>-0.176259</td>\n",
       "      <td>0.122967</td>\n",
       "      <td>-4.409596</td>\n",
       "      <td>-0.251055</td>\n",
       "      <td>8.706359</td>\n",
       "      <td>1.380465</td>\n",
       "      <td>0.000000</td>\n",
       "      <td>0.895838</td>\n",
       "      <td>685</td>\n",
       "    </tr>\n",
       "    <tr>\n",
       "      <th>685</th>\n",
       "      <td>685</td>\n",
       "      <td>1.000000</td>\n",
       "      <td>39845.0</td>\n",
       "      <td>1</td>\n",
       "      <td>-0.014331</td>\n",
       "      <td>0.123500</td>\n",
       "      <td>1.968134</td>\n",
       "      <td>-1.794004</td>\n",
       "      <td>0.073473</td>\n",
       "      <td>-0.011173</td>\n",
       "      <td>0.003786</td>\n",
       "      <td>-0.002428</td>\n",
       "      <td>-3.966277</td>\n",
       "      <td>-0.804271</td>\n",
       "      <td>0.333052</td>\n",
       "      <td>0.324100</td>\n",
       "      <td>-1.508033</td>\n",
       "      <td>0.896337</td>\n",
       "      <td>685</td>\n",
       "    </tr>\n",
       "    <tr>\n",
       "      <th>1213</th>\n",
       "      <td>3423</td>\n",
       "      <td>0.250000</td>\n",
       "      <td>40704.0</td>\n",
       "      <td>0</td>\n",
       "      <td>-0.026991</td>\n",
       "      <td>0.254167</td>\n",
       "      <td>2.317767</td>\n",
       "      <td>-0.935896</td>\n",
       "      <td>0.015572</td>\n",
       "      <td>-0.004473</td>\n",
       "      <td>0.013039</td>\n",
       "      <td>-0.009050</td>\n",
       "      <td>-6.313355</td>\n",
       "      <td>-0.785049</td>\n",
       "      <td>0.387813</td>\n",
       "      <td>0.181390</td>\n",
       "      <td>3.583519</td>\n",
       "      <td>0.830330</td>\n",
       "      <td>686</td>\n",
       "    </tr>\n",
       "    <tr>\n",
       "      <th>686</th>\n",
       "      <td>686</td>\n",
       "      <td>1.000000</td>\n",
       "      <td>36219.0</td>\n",
       "      <td>1</td>\n",
       "      <td>-0.014331</td>\n",
       "      <td>0.123500</td>\n",
       "      <td>2.094336</td>\n",
       "      <td>-0.647208</td>\n",
       "      <td>0.051724</td>\n",
       "      <td>-0.020650</td>\n",
       "      <td>-0.081008</td>\n",
       "      <td>0.019039</td>\n",
       "      <td>-5.523101</td>\n",
       "      <td>-0.500919</td>\n",
       "      <td>0.686349</td>\n",
       "      <td>0.346043</td>\n",
       "      <td>-1.508033</td>\n",
       "      <td>0.828879</td>\n",
       "      <td>686</td>\n",
       "    </tr>\n",
       "    <tr>\n",
       "      <th>687</th>\n",
       "      <td>687</td>\n",
       "      <td>1.000000</td>\n",
       "      <td>34420.0</td>\n",
       "      <td>1</td>\n",
       "      <td>-0.014331</td>\n",
       "      <td>0.123500</td>\n",
       "      <td>1.394655</td>\n",
       "      <td>-1.022594</td>\n",
       "      <td>0.031981</td>\n",
       "      <td>0.006604</td>\n",
       "      <td>-0.052980</td>\n",
       "      <td>0.002255</td>\n",
       "      <td>-6.881766</td>\n",
       "      <td>-0.935494</td>\n",
       "      <td>-0.365378</td>\n",
       "      <td>0.213654</td>\n",
       "      <td>0.000000</td>\n",
       "      <td>0.971103</td>\n",
       "      <td>687</td>\n",
       "    </tr>\n",
       "    <tr>\n",
       "      <th>1181</th>\n",
       "      <td>3239</td>\n",
       "      <td>0.050000</td>\n",
       "      <td>130473.0</td>\n",
       "      <td>0</td>\n",
       "      <td>-0.026991</td>\n",
       "      <td>0.254167</td>\n",
       "      <td>-0.461315</td>\n",
       "      <td>-0.355893</td>\n",
       "      <td>0.028149</td>\n",
       "      <td>-0.008127</td>\n",
       "      <td>-0.036879</td>\n",
       "      <td>-0.104176</td>\n",
       "      <td>-7.974072</td>\n",
       "      <td>-0.056777</td>\n",
       "      <td>0.060530</td>\n",
       "      <td>0.324210</td>\n",
       "      <td>0.986519</td>\n",
       "      <td>0.971522</td>\n",
       "      <td>687</td>\n",
       "    </tr>\n",
       "    <tr>\n",
       "      <th>688</th>\n",
       "      <td>688</td>\n",
       "      <td>1.000000</td>\n",
       "      <td>39820.0</td>\n",
       "      <td>1</td>\n",
       "      <td>-0.025256</td>\n",
       "      <td>0.166500</td>\n",
       "      <td>1.538624</td>\n",
       "      <td>-0.549296</td>\n",
       "      <td>0.089886</td>\n",
       "      <td>-0.020660</td>\n",
       "      <td>-0.056339</td>\n",
       "      <td>-0.004011</td>\n",
       "      <td>-6.089497</td>\n",
       "      <td>-0.848060</td>\n",
       "      <td>0.916557</td>\n",
       "      <td>0.164599</td>\n",
       "      <td>0.000000</td>\n",
       "      <td>0.928907</td>\n",
       "      <td>688</td>\n",
       "    </tr>\n",
       "    <tr>\n",
       "      <th>1235</th>\n",
       "      <td>3446</td>\n",
       "      <td>0.047619</td>\n",
       "      <td>34518.0</td>\n",
       "      <td>0</td>\n",
       "      <td>0.129705</td>\n",
       "      <td>0.013500</td>\n",
       "      <td>2.744842</td>\n",
       "      <td>-0.779726</td>\n",
       "      <td>0.956470</td>\n",
       "      <td>-0.027448</td>\n",
       "      <td>-0.943484</td>\n",
       "      <td>0.128337</td>\n",
       "      <td>-4.555581</td>\n",
       "      <td>-0.284138</td>\n",
       "      <td>28.461557</td>\n",
       "      <td>0.160488</td>\n",
       "      <td>1.675794</td>\n",
       "      <td>0.927074</td>\n",
       "      <td>688</td>\n",
       "    </tr>\n",
       "    <tr>\n",
       "      <th>689</th>\n",
       "      <td>689</td>\n",
       "      <td>1.000000</td>\n",
       "      <td>33337.0</td>\n",
       "      <td>1</td>\n",
       "      <td>-0.025256</td>\n",
       "      <td>0.166500</td>\n",
       "      <td>1.378285</td>\n",
       "      <td>-1.598163</td>\n",
       "      <td>0.063351</td>\n",
       "      <td>-0.013604</td>\n",
       "      <td>-0.024182</td>\n",
       "      <td>0.032158</td>\n",
       "      <td>-5.746674</td>\n",
       "      <td>-1.430327</td>\n",
       "      <td>-3.714638</td>\n",
       "      <td>0.272669</td>\n",
       "      <td>-1.723067</td>\n",
       "      <td>0.991133</td>\n",
       "      <td>689</td>\n",
       "    </tr>\n",
       "    <tr>\n",
       "      <th>886</th>\n",
       "      <td>1878</td>\n",
       "      <td>0.030303</td>\n",
       "      <td>40681.0</td>\n",
       "      <td>0</td>\n",
       "      <td>-0.222460</td>\n",
       "      <td>1.202333</td>\n",
       "      <td>1.542057</td>\n",
       "      <td>-0.375216</td>\n",
       "      <td>0.336926</td>\n",
       "      <td>0.009239</td>\n",
       "      <td>-0.244410</td>\n",
       "      <td>-0.144169</td>\n",
       "      <td>-6.733548</td>\n",
       "      <td>-1.183246</td>\n",
       "      <td>0.251932</td>\n",
       "      <td>0.186958</td>\n",
       "      <td>1.883154</td>\n",
       "      <td>0.991325</td>\n",
       "      <td>689</td>\n",
       "    </tr>\n",
       "    <tr>\n",
       "      <th>963</th>\n",
       "      <td>2243</td>\n",
       "      <td>0.100000</td>\n",
       "      <td>42459.0</td>\n",
       "      <td>0</td>\n",
       "      <td>-0.225509</td>\n",
       "      <td>1.275167</td>\n",
       "      <td>1.139989</td>\n",
       "      <td>-0.978311</td>\n",
       "      <td>0.037323</td>\n",
       "      <td>-0.016097</td>\n",
       "      <td>-0.005878</td>\n",
       "      <td>-0.027001</td>\n",
       "      <td>-5.058688</td>\n",
       "      <td>-0.891623</td>\n",
       "      <td>0.241801</td>\n",
       "      <td>0.264156</td>\n",
       "      <td>1.098612</td>\n",
       "      <td>0.960534</td>\n",
       "      <td>690</td>\n",
       "    </tr>\n",
       "    <tr>\n",
       "      <th>690</th>\n",
       "      <td>690</td>\n",
       "      <td>1.000000</td>\n",
       "      <td>164076.0</td>\n",
       "      <td>1</td>\n",
       "      <td>-0.019220</td>\n",
       "      <td>0.197833</td>\n",
       "      <td>1.723406</td>\n",
       "      <td>-0.753952</td>\n",
       "      <td>0.961580</td>\n",
       "      <td>-0.031630</td>\n",
       "      <td>-0.206964</td>\n",
       "      <td>-0.068396</td>\n",
       "      <td>-6.268586</td>\n",
       "      <td>-1.158064</td>\n",
       "      <td>1.965989</td>\n",
       "      <td>0.309863</td>\n",
       "      <td>-1.723067</td>\n",
       "      <td>0.961841</td>\n",
       "      <td>690</td>\n",
       "    </tr>\n",
       "    <tr>\n",
       "      <th>736</th>\n",
       "      <td>1045</td>\n",
       "      <td>0.100000</td>\n",
       "      <td>35445.0</td>\n",
       "      <td>0</td>\n",
       "      <td>-0.285439</td>\n",
       "      <td>0.156667</td>\n",
       "      <td>1.490476</td>\n",
       "      <td>-0.590983</td>\n",
       "      <td>0.358360</td>\n",
       "      <td>-0.110039</td>\n",
       "      <td>-0.998822</td>\n",
       "      <td>-0.151217</td>\n",
       "      <td>-8.109652</td>\n",
       "      <td>0.632005</td>\n",
       "      <td>2.069453</td>\n",
       "      <td>0.430433</td>\n",
       "      <td>2.079442</td>\n",
       "      <td>0.993432</td>\n",
       "      <td>691</td>\n",
       "    </tr>\n",
       "    <tr>\n",
       "      <th>691</th>\n",
       "      <td>691</td>\n",
       "      <td>1.000000</td>\n",
       "      <td>131588.0</td>\n",
       "      <td>1</td>\n",
       "      <td>-0.019220</td>\n",
       "      <td>0.197833</td>\n",
       "      <td>1.353490</td>\n",
       "      <td>-1.513248</td>\n",
       "      <td>0.102823</td>\n",
       "      <td>-0.013226</td>\n",
       "      <td>-0.033275</td>\n",
       "      <td>-0.004166</td>\n",
       "      <td>-5.783059</td>\n",
       "      <td>-1.550206</td>\n",
       "      <td>-0.506509</td>\n",
       "      <td>0.209756</td>\n",
       "      <td>-0.693147</td>\n",
       "      <td>0.993756</td>\n",
       "      <td>691</td>\n",
       "    </tr>\n",
       "    <tr>\n",
       "      <th>1388</th>\n",
       "      <td>3529</td>\n",
       "      <td>0.006623</td>\n",
       "      <td>44399.0</td>\n",
       "      <td>0</td>\n",
       "      <td>0.007036</td>\n",
       "      <td>0.083167</td>\n",
       "      <td>0.864184</td>\n",
       "      <td>-0.914896</td>\n",
       "      <td>0.032109</td>\n",
       "      <td>0.022399</td>\n",
       "      <td>-0.043760</td>\n",
       "      <td>-0.240859</td>\n",
       "      <td>-7.385258</td>\n",
       "      <td>-1.049622</td>\n",
       "      <td>0.218613</td>\n",
       "      <td>0.357496</td>\n",
       "      <td>2.197225</td>\n",
       "      <td>0.996693</td>\n",
       "      <td>692</td>\n",
       "    </tr>\n",
       "    <tr>\n",
       "      <th>692</th>\n",
       "      <td>692</td>\n",
       "      <td>1.000000</td>\n",
       "      <td>130542.0</td>\n",
       "      <td>1</td>\n",
       "      <td>-0.019220</td>\n",
       "      <td>0.197833</td>\n",
       "      <td>3.634604</td>\n",
       "      <td>-2.055987</td>\n",
       "      <td>0.003999</td>\n",
       "      <td>0.007240</td>\n",
       "      <td>-0.323364</td>\n",
       "      <td>-0.607776</td>\n",
       "      <td>-3.592307</td>\n",
       "      <td>-1.839212</td>\n",
       "      <td>0.193698</td>\n",
       "      <td>0.265089</td>\n",
       "      <td>-0.693147</td>\n",
       "      <td>0.999061</td>\n",
       "      <td>692</td>\n",
       "    </tr>\n",
       "    <tr>\n",
       "      <th>1012</th>\n",
       "      <td>2468</td>\n",
       "      <td>0.076923</td>\n",
       "      <td>47091.0</td>\n",
       "      <td>0</td>\n",
       "      <td>0.060460</td>\n",
       "      <td>3.265000</td>\n",
       "      <td>-0.310530</td>\n",
       "      <td>-0.420602</td>\n",
       "      <td>0.058923</td>\n",
       "      <td>-0.001924</td>\n",
       "      <td>-0.019517</td>\n",
       "      <td>-0.008475</td>\n",
       "      <td>-5.858602</td>\n",
       "      <td>-1.105631</td>\n",
       "      <td>0.175217</td>\n",
       "      <td>0.244332</td>\n",
       "      <td>0.000000</td>\n",
       "      <td>0.993093</td>\n",
       "      <td>693</td>\n",
       "    </tr>\n",
       "    <tr>\n",
       "      <th>693</th>\n",
       "      <td>693</td>\n",
       "      <td>1.000000</td>\n",
       "      <td>32313.0</td>\n",
       "      <td>1</td>\n",
       "      <td>-0.019220</td>\n",
       "      <td>0.197833</td>\n",
       "      <td>0.677777</td>\n",
       "      <td>-1.049365</td>\n",
       "      <td>0.001344</td>\n",
       "      <td>0.000347</td>\n",
       "      <td>-0.000881</td>\n",
       "      <td>-0.133713</td>\n",
       "      <td>-3.469432</td>\n",
       "      <td>-1.351482</td>\n",
       "      <td>0.092999</td>\n",
       "      <td>0.221762</td>\n",
       "      <td>-0.000000</td>\n",
       "      <td>0.992506</td>\n",
       "      <td>693</td>\n",
       "    </tr>\n",
       "    <tr>\n",
       "      <th>694</th>\n",
       "      <td>694</td>\n",
       "      <td>1.000000</td>\n",
       "      <td>40623.0</td>\n",
       "      <td>1</td>\n",
       "      <td>0.007036</td>\n",
       "      <td>0.083167</td>\n",
       "      <td>1.743715</td>\n",
       "      <td>-1.441453</td>\n",
       "      <td>0.123789</td>\n",
       "      <td>-0.052288</td>\n",
       "      <td>-0.070936</td>\n",
       "      <td>-0.022573</td>\n",
       "      <td>-7.037925</td>\n",
       "      <td>-0.816507</td>\n",
       "      <td>1.630393</td>\n",
       "      <td>0.182228</td>\n",
       "      <td>0.346574</td>\n",
       "      <td>0.965824</td>\n",
       "      <td>694</td>\n",
       "    </tr>\n",
       "    <tr>\n",
       "      <th>714</th>\n",
       "      <td>779</td>\n",
       "      <td>0.066667</td>\n",
       "      <td>29441.0</td>\n",
       "      <td>0</td>\n",
       "      <td>-0.162834</td>\n",
       "      <td>3.878333</td>\n",
       "      <td>0.946354</td>\n",
       "      <td>-0.432342</td>\n",
       "      <td>0.528875</td>\n",
       "      <td>-0.071463</td>\n",
       "      <td>-0.303835</td>\n",
       "      <td>0.027988</td>\n",
       "      <td>-6.009293</td>\n",
       "      <td>-0.478829</td>\n",
       "      <td>-8.998506</td>\n",
       "      <td>0.424360</td>\n",
       "      <td>1.098612</td>\n",
       "      <td>0.965087</td>\n",
       "      <td>694</td>\n",
       "    </tr>\n",
       "    <tr>\n",
       "      <th>695</th>\n",
       "      <td>695</td>\n",
       "      <td>1.000000</td>\n",
       "      <td>51336.0</td>\n",
       "      <td>1</td>\n",
       "      <td>0.044940</td>\n",
       "      <td>0.257333</td>\n",
       "      <td>-0.477910</td>\n",
       "      <td>-0.102694</td>\n",
       "      <td>0.158260</td>\n",
       "      <td>0.032357</td>\n",
       "      <td>-0.025556</td>\n",
       "      <td>-0.029458</td>\n",
       "      <td>-7.824421</td>\n",
       "      <td>-0.751441</td>\n",
       "      <td>0.097838</td>\n",
       "      <td>0.264772</td>\n",
       "      <td>-0.000000</td>\n",
       "      <td>0.986712</td>\n",
       "      <td>695</td>\n",
       "    </tr>\n",
       "    <tr>\n",
       "      <th>1149</th>\n",
       "      <td>2902</td>\n",
       "      <td>0.047619</td>\n",
       "      <td>45577.0</td>\n",
       "      <td>0</td>\n",
       "      <td>-0.388018</td>\n",
       "      <td>0.206667</td>\n",
       "      <td>2.431983</td>\n",
       "      <td>-1.777158</td>\n",
       "      <td>0.129816</td>\n",
       "      <td>-0.010545</td>\n",
       "      <td>-0.068527</td>\n",
       "      <td>0.021107</td>\n",
       "      <td>-5.620732</td>\n",
       "      <td>-1.551529</td>\n",
       "      <td>0.648793</td>\n",
       "      <td>0.241713</td>\n",
       "      <td>0.366204</td>\n",
       "      <td>0.985833</td>\n",
       "      <td>695</td>\n",
       "    </tr>\n",
       "    <tr>\n",
       "      <th>696</th>\n",
       "      <td>696</td>\n",
       "      <td>1.000000</td>\n",
       "      <td>38125.0</td>\n",
       "      <td>1</td>\n",
       "      <td>0.003040</td>\n",
       "      <td>0.244167</td>\n",
       "      <td>0.134869</td>\n",
       "      <td>0.152664</td>\n",
       "      <td>0.196426</td>\n",
       "      <td>-0.000315</td>\n",
       "      <td>0.009239</td>\n",
       "      <td>0.000496</td>\n",
       "      <td>-5.703567</td>\n",
       "      <td>-0.427513</td>\n",
       "      <td>0.365622</td>\n",
       "      <td>0.132575</td>\n",
       "      <td>0.346574</td>\n",
       "      <td>0.795975</td>\n",
       "      <td>696</td>\n",
       "    </tr>\n",
       "    <tr>\n",
       "      <th>726</th>\n",
       "      <td>990</td>\n",
       "      <td>0.500000</td>\n",
       "      <td>27303.0</td>\n",
       "      <td>0</td>\n",
       "      <td>-0.393149</td>\n",
       "      <td>0.155000</td>\n",
       "      <td>1.362632</td>\n",
       "      <td>-0.998170</td>\n",
       "      <td>0.171709</td>\n",
       "      <td>-0.044678</td>\n",
       "      <td>0.004233</td>\n",
       "      <td>-0.030863</td>\n",
       "      <td>-3.629702</td>\n",
       "      <td>-0.600301</td>\n",
       "      <td>0.600424</td>\n",
       "      <td>0.198146</td>\n",
       "      <td>0.693147</td>\n",
       "      <td>0.795395</td>\n",
       "      <td>696</td>\n",
       "    </tr>\n",
       "    <tr>\n",
       "      <th>697</th>\n",
       "      <td>697</td>\n",
       "      <td>1.000000</td>\n",
       "      <td>45577.0</td>\n",
       "      <td>1</td>\n",
       "      <td>0.035755</td>\n",
       "      <td>0.246167</td>\n",
       "      <td>1.210366</td>\n",
       "      <td>-0.104299</td>\n",
       "      <td>0.334064</td>\n",
       "      <td>-0.209301</td>\n",
       "      <td>-0.109788</td>\n",
       "      <td>0.016467</td>\n",
       "      <td>-6.435914</td>\n",
       "      <td>-0.704453</td>\n",
       "      <td>1.326372</td>\n",
       "      <td>0.257664</td>\n",
       "      <td>0.922099</td>\n",
       "      <td>0.955069</td>\n",
       "      <td>697</td>\n",
       "    </tr>\n",
       "    <tr>\n",
       "      <th>1037</th>\n",
       "      <td>2514</td>\n",
       "      <td>0.066667</td>\n",
       "      <td>32690.0</td>\n",
       "      <td>0</td>\n",
       "      <td>-0.110734</td>\n",
       "      <td>0.129167</td>\n",
       "      <td>0.438778</td>\n",
       "      <td>-0.305182</td>\n",
       "      <td>0.008357</td>\n",
       "      <td>-0.004519</td>\n",
       "      <td>-0.029669</td>\n",
       "      <td>-0.055325</td>\n",
       "      <td>-5.562043</td>\n",
       "      <td>-0.636753</td>\n",
       "      <td>0.792933</td>\n",
       "      <td>0.197103</td>\n",
       "      <td>1.945910</td>\n",
       "      <td>0.954899</td>\n",
       "      <td>697</td>\n",
       "    </tr>\n",
       "    <tr>\n",
       "      <th>887</th>\n",
       "      <td>1878</td>\n",
       "      <td>0.030303</td>\n",
       "      <td>40681.0</td>\n",
       "      <td>0</td>\n",
       "      <td>-0.222460</td>\n",
       "      <td>1.202333</td>\n",
       "      <td>1.542057</td>\n",
       "      <td>-0.375216</td>\n",
       "      <td>0.336926</td>\n",
       "      <td>0.009239</td>\n",
       "      <td>-0.244410</td>\n",
       "      <td>-0.144169</td>\n",
       "      <td>-6.733548</td>\n",
       "      <td>-1.183246</td>\n",
       "      <td>0.251932</td>\n",
       "      <td>0.186958</td>\n",
       "      <td>1.883154</td>\n",
       "      <td>0.991325</td>\n",
       "      <td>698</td>\n",
       "    </tr>\n",
       "    <tr>\n",
       "      <th>698</th>\n",
       "      <td>698</td>\n",
       "      <td>1.000000</td>\n",
       "      <td>45512.0</td>\n",
       "      <td>1</td>\n",
       "      <td>0.044940</td>\n",
       "      <td>0.257333</td>\n",
       "      <td>0.008004</td>\n",
       "      <td>-0.547006</td>\n",
       "      <td>0.004291</td>\n",
       "      <td>0.000759</td>\n",
       "      <td>-0.028435</td>\n",
       "      <td>-0.007371</td>\n",
       "      <td>-6.788400</td>\n",
       "      <td>-1.080158</td>\n",
       "      <td>0.140078</td>\n",
       "      <td>0.159321</td>\n",
       "      <td>0.529676</td>\n",
       "      <td>0.992040</td>\n",
       "      <td>698</td>\n",
       "    </tr>\n",
       "  </tbody>\n",
       "</table>\n",
       "<p>1398 rows × 19 columns</p>\n",
       "</div>"
      ],
      "text/plain": [
       "      record_id    weight        ID  Default     SP500  TreasuryRate  \\\n",
       "0             0  1.000000   32065.0        1  0.283508      5.085000   \n",
       "811        1663  0.142857   34193.0        0 -0.117824      1.765000   \n",
       "808        1653  0.333333   33318.0        0 -0.338656      0.176667   \n",
       "1             1  1.000000   29690.0        1  0.242616      5.036667   \n",
       "2             2  1.000000   28736.0        1  0.283508      5.085000   \n",
       "1238       3529  0.006623   44399.0        0  0.007036      0.083167   \n",
       "3             3  1.000000   33466.0        1  0.281967      5.051667   \n",
       "1392       3576  0.166667  164793.0        0 -0.023500      0.218667   \n",
       "4             4  1.000000   32336.0        1  0.242616      5.036667   \n",
       "1048       2522  1.000000   47647.0        0 -0.199549      0.142500   \n",
       "5             5  1.000000   34125.0        1  0.281967      5.051667   \n",
       "1110       2843  1.000000   29589.0        0  0.059301      0.145000   \n",
       "6             6  1.000000   28458.0        1  0.281967      5.051667   \n",
       "741        1115  1.000000   30159.0        0  0.057261      0.972833   \n",
       "1023       2514  0.066667   32690.0        0 -0.110734      0.129167   \n",
       "7             7  1.000000   34353.0        1  0.295893      5.055000   \n",
       "8             8  1.000000   27186.0        1  0.281967      5.051667   \n",
       "1113       2862  1.000000   39902.0        0  0.080527      0.135833   \n",
       "9             9  1.000000   31128.0        1  0.295893      5.055000   \n",
       "915        2053  0.076923   38114.0        0 -0.180991      3.325000   \n",
       "997        2415  1.000000   41669.0        0 -0.028250      0.115833   \n",
       "10           10  1.000000   38955.0        1  0.326854      5.021667   \n",
       "797        1648  0.100000   33403.0        0  0.196261      4.411667   \n",
       "11           11  1.000000   38301.0        1  0.328618      5.015000   \n",
       "12           12  1.000000   38157.0        1  0.242616      5.036667   \n",
       "1063       2628  0.500000   46024.0        0 -0.311110      0.563333   \n",
       "13           13  1.000000   37802.0        1  0.326854      5.021667   \n",
       "895        1953  0.090909   42161.0        0  0.126674      5.361667   \n",
       "1129       2902  0.047619   45577.0        0 -0.388018      0.206667   \n",
       "14           14  1.000000   32003.0        1  0.326854      5.021667   \n",
       "...         ...       ...       ...      ...       ...           ...   \n",
       "847        1841  0.200000   38926.0        0  0.161905      4.490000   \n",
       "684         684  1.000000   34430.0        1  0.038230      0.021833   \n",
       "1055       2572  0.500000   47778.0        0  0.155290      0.150000   \n",
       "685         685  1.000000   39845.0        1 -0.014331      0.123500   \n",
       "1213       3423  0.250000   40704.0        0 -0.026991      0.254167   \n",
       "686         686  1.000000   36219.0        1 -0.014331      0.123500   \n",
       "687         687  1.000000   34420.0        1 -0.014331      0.123500   \n",
       "1181       3239  0.050000  130473.0        0 -0.026991      0.254167   \n",
       "688         688  1.000000   39820.0        1 -0.025256      0.166500   \n",
       "1235       3446  0.047619   34518.0        0  0.129705      0.013500   \n",
       "689         689  1.000000   33337.0        1 -0.025256      0.166500   \n",
       "886        1878  0.030303   40681.0        0 -0.222460      1.202333   \n",
       "963        2243  0.100000   42459.0        0 -0.225509      1.275167   \n",
       "690         690  1.000000  164076.0        1 -0.019220      0.197833   \n",
       "736        1045  0.100000   35445.0        0 -0.285439      0.156667   \n",
       "691         691  1.000000  131588.0        1 -0.019220      0.197833   \n",
       "1388       3529  0.006623   44399.0        0  0.007036      0.083167   \n",
       "692         692  1.000000  130542.0        1 -0.019220      0.197833   \n",
       "1012       2468  0.076923   47091.0        0  0.060460      3.265000   \n",
       "693         693  1.000000   32313.0        1 -0.019220      0.197833   \n",
       "694         694  1.000000   40623.0        1  0.007036      0.083167   \n",
       "714         779  0.066667   29441.0        0 -0.162834      3.878333   \n",
       "695         695  1.000000   51336.0        1  0.044940      0.257333   \n",
       "1149       2902  0.047619   45577.0        0 -0.388018      0.206667   \n",
       "696         696  1.000000   38125.0        1  0.003040      0.244167   \n",
       "726         990  0.500000   27303.0        0 -0.393149      0.155000   \n",
       "697         697  1.000000   45577.0        1  0.035755      0.246167   \n",
       "1037       2514  0.066667   32690.0        0 -0.110734      0.129167   \n",
       "887        1878  0.030303   40681.0        0 -0.222460      1.202333   \n",
       "698         698  1.000000   45512.0        1  0.044940      0.257333   \n",
       "\n",
       "      DTDLevel  DTDTrend  CashTALevel  CashTATrend  NITALevel  NITATrend  \\\n",
       "0     0.086307 -0.513143     0.000199    -0.000007  -0.016454   0.005209   \n",
       "811   0.952814 -0.043492     0.310103    -0.118998  -0.287842  -0.012202   \n",
       "808   0.280462 -0.337952     0.214830     0.032865  -0.039521  -0.012392   \n",
       "1     1.686283 -1.477297     0.072509     0.018146  -0.006550  -0.035763   \n",
       "2     1.215289 -1.619508     0.026962     0.039266  -0.020610  -0.082383   \n",
       "1238  0.864184 -0.914896     0.032109     0.022399  -0.043760  -0.240859   \n",
       "3     1.563262 -1.069329     0.010644    -0.002843   0.003499  -0.035563   \n",
       "1392  0.547972 -0.159658     0.098657    -0.000821  -0.024188   0.003428   \n",
       "4     0.644263 -0.157055     0.053958     0.078209  -0.015186   0.017372   \n",
       "1048  3.152017 -1.714018     0.304893    -0.019063  -0.063707  -0.115528   \n",
       "5     0.688600 -0.486257     0.017397    -0.004314  -0.013532   0.007054   \n",
       "1110  1.370354 -0.497938     0.249494     0.008839  -0.084334  -0.207905   \n",
       "6     4.124650 -1.650943     0.116231     0.003388  -0.361586  -0.041349   \n",
       "741   0.562447 -0.078275     0.063744     0.010125  -0.033330   0.024007   \n",
       "1023  0.438778 -0.305182     0.008357    -0.004519  -0.029669  -0.055325   \n",
       "7     0.162890 -0.280213     0.029858    -0.015734  -0.028702   0.000524   \n",
       "8    -0.768166 -0.128713     0.031495    -0.003640  -0.070716   0.021168   \n",
       "1113  0.695275 -0.326181     0.216367    -0.129539   0.549505  -0.582159   \n",
       "9     0.691163 -0.565698     0.096498     0.104491  -0.076687  -0.068434   \n",
       "915   1.421590 -1.306273     0.400542    -0.131402  -0.024174  -0.011633   \n",
       "997   0.132011 -0.200323     0.059381    -0.017327   0.002172  -0.000855   \n",
       "10    2.291976 -1.200072     0.360796    -0.219292  -0.043512  -0.113587   \n",
       "797   0.988640 -0.525880     0.042353     0.017875  -0.013452  -0.000827   \n",
       "11    1.031183 -0.387968     0.214589     0.007569  -0.273110  -0.042311   \n",
       "12    0.136831 -0.117981     0.082104     0.007277  -0.052671  -0.007753   \n",
       "1063  1.754345 -0.934922     0.378845     0.052539  -0.028703  -0.016899   \n",
       "13    0.761387 -0.840307     0.247612    -0.151839  -0.062379  -0.124443   \n",
       "895   2.106442 -2.145249     0.004798     0.003762  -0.004293   0.014797   \n",
       "1129  2.431983 -1.777158     0.129816    -0.010545  -0.068527   0.021107   \n",
       "14   -0.405548 -0.435118     0.022857     0.034338  -0.086020   0.026429   \n",
       "...        ...       ...          ...          ...        ...        ...   \n",
       "847   2.175005 -1.706297     0.038745    -0.004669  -0.024651   0.008938   \n",
       "684   1.356744 -1.311606     0.027301    -0.010582  -0.005820   0.005447   \n",
       "1055  1.320949 -0.878447     0.762918     0.080499  -0.176259   0.122967   \n",
       "685   1.968134 -1.794004     0.073473    -0.011173   0.003786  -0.002428   \n",
       "1213  2.317767 -0.935896     0.015572    -0.004473   0.013039  -0.009050   \n",
       "686   2.094336 -0.647208     0.051724    -0.020650  -0.081008   0.019039   \n",
       "687   1.394655 -1.022594     0.031981     0.006604  -0.052980   0.002255   \n",
       "1181 -0.461315 -0.355893     0.028149    -0.008127  -0.036879  -0.104176   \n",
       "688   1.538624 -0.549296     0.089886    -0.020660  -0.056339  -0.004011   \n",
       "1235  2.744842 -0.779726     0.956470    -0.027448  -0.943484   0.128337   \n",
       "689   1.378285 -1.598163     0.063351    -0.013604  -0.024182   0.032158   \n",
       "886   1.542057 -0.375216     0.336926     0.009239  -0.244410  -0.144169   \n",
       "963   1.139989 -0.978311     0.037323    -0.016097  -0.005878  -0.027001   \n",
       "690   1.723406 -0.753952     0.961580    -0.031630  -0.206964  -0.068396   \n",
       "736   1.490476 -0.590983     0.358360    -0.110039  -0.998822  -0.151217   \n",
       "691   1.353490 -1.513248     0.102823    -0.013226  -0.033275  -0.004166   \n",
       "1388  0.864184 -0.914896     0.032109     0.022399  -0.043760  -0.240859   \n",
       "692   3.634604 -2.055987     0.003999     0.007240  -0.323364  -0.607776   \n",
       "1012 -0.310530 -0.420602     0.058923    -0.001924  -0.019517  -0.008475   \n",
       "693   0.677777 -1.049365     0.001344     0.000347  -0.000881  -0.133713   \n",
       "694   1.743715 -1.441453     0.123789    -0.052288  -0.070936  -0.022573   \n",
       "714   0.946354 -0.432342     0.528875    -0.071463  -0.303835   0.027988   \n",
       "695  -0.477910 -0.102694     0.158260     0.032357  -0.025556  -0.029458   \n",
       "1149  2.431983 -1.777158     0.129816    -0.010545  -0.068527   0.021107   \n",
       "696   0.134869  0.152664     0.196426    -0.000315   0.009239   0.000496   \n",
       "726   1.362632 -0.998170     0.171709    -0.044678   0.004233  -0.030863   \n",
       "697   1.210366 -0.104299     0.334064    -0.209301  -0.109788   0.016467   \n",
       "1037  0.438778 -0.305182     0.008357    -0.004519  -0.029669  -0.055325   \n",
       "887   1.542057 -0.375216     0.336926     0.009239  -0.244410  -0.144169   \n",
       "698   0.008004 -0.547006     0.004291     0.000759  -0.028435  -0.007371   \n",
       "\n",
       "      SizeLevel  SizeTrend         MB     SIGMA  MediaSentimentScore  \\\n",
       "0     -6.530020  -0.435409   0.555411  0.195891             0.000000   \n",
       "811   -7.073686  -0.092634  -2.672501  0.308557             3.496508   \n",
       "808   -3.888488  -0.696756   0.362090  0.237517             0.366204   \n",
       "1     -6.005441  -0.768428   0.454989  0.137869             1.842068   \n",
       "2     -5.220132  -1.658265   0.430880  0.246562             1.220680   \n",
       "1238  -7.385258  -1.049622   0.218613  0.357496             2.197225   \n",
       "3     -6.165693  -0.692513   0.265799  0.145981             2.197225   \n",
       "1392  -5.195989  -0.627176  -0.403192  0.208492             0.000000   \n",
       "4     -4.863716  -0.178324   1.180024  0.132618             2.197225   \n",
       "1048  -6.073637  -0.118193   1.968615  0.340775             0.321888   \n",
       "5     -4.580366  -0.450380  -0.763768  0.190497             0.833961   \n",
       "1110  -4.146460  -0.499832   0.683893  0.101398             1.194506   \n",
       "6     -4.994066  -0.388738  -1.273420  0.113152            -1.609438   \n",
       "741   -7.477708   0.068559   0.455618  0.244692             1.386294   \n",
       "1023  -5.562043  -0.636753   0.792933  0.197103             1.945910   \n",
       "7     -6.145973  -0.530578   1.127536  0.259664             0.519860   \n",
       "8     -5.708513  -0.212703  -0.264471  0.150277             0.000000   \n",
       "1113  -3.817847  -1.325224  -0.480066  0.260560             0.000000   \n",
       "9     -6.673858  -0.961915   0.447975  0.143305             0.000000   \n",
       "915    0.058799  -1.781635   0.602027  0.204463             0.597253   \n",
       "997   -6.194829  -0.065553   0.555895  0.149901             2.197225   \n",
       "10    -4.592110  -0.421650   1.782954  0.122978             1.220680   \n",
       "797   -5.540663  -0.781453   0.491173  0.343443             1.039721   \n",
       "11    -4.232021  -0.535314  -1.181855  0.216441             0.833961   \n",
       "12    -7.749426  -0.078135   3.744618  0.322711             0.000000   \n",
       "1063  -6.540437  -1.053197   0.334436  0.217307             0.693147   \n",
       "13    -6.628332  -0.535334   0.981649  0.293726             1.708952   \n",
       "895   -1.267815  -1.913401   0.323463  0.087421             2.890372   \n",
       "1129  -5.620732  -1.551529   0.648793  0.241713             0.366204   \n",
       "14    -6.932710  -0.700934  -0.181926  0.227311             1.708952   \n",
       "...         ...        ...        ...       ...                  ...   \n",
       "847   -6.889414  -1.180650   0.966787  0.311007             1.220680   \n",
       "684   -4.716154  -1.288635   1.296889  0.201371             0.597253   \n",
       "1055  -4.409596  -0.251055   8.706359  1.380465             0.000000   \n",
       "685   -3.966277  -0.804271   0.333052  0.324100            -1.508033   \n",
       "1213  -6.313355  -0.785049   0.387813  0.181390             3.583519   \n",
       "686   -5.523101  -0.500919   0.686349  0.346043            -1.508033   \n",
       "687   -6.881766  -0.935494  -0.365378  0.213654             0.000000   \n",
       "1181  -7.974072  -0.056777   0.060530  0.324210             0.986519   \n",
       "688   -6.089497  -0.848060   0.916557  0.164599             0.000000   \n",
       "1235  -4.555581  -0.284138  28.461557  0.160488             1.675794   \n",
       "689   -5.746674  -1.430327  -3.714638  0.272669            -1.723067   \n",
       "886   -6.733548  -1.183246   0.251932  0.186958             1.883154   \n",
       "963   -5.058688  -0.891623   0.241801  0.264156             1.098612   \n",
       "690   -6.268586  -1.158064   1.965989  0.309863            -1.723067   \n",
       "736   -8.109652   0.632005   2.069453  0.430433             2.079442   \n",
       "691   -5.783059  -1.550206  -0.506509  0.209756            -0.693147   \n",
       "1388  -7.385258  -1.049622   0.218613  0.357496             2.197225   \n",
       "692   -3.592307  -1.839212   0.193698  0.265089            -0.693147   \n",
       "1012  -5.858602  -1.105631   0.175217  0.244332             0.000000   \n",
       "693   -3.469432  -1.351482   0.092999  0.221762            -0.000000   \n",
       "694   -7.037925  -0.816507   1.630393  0.182228             0.346574   \n",
       "714   -6.009293  -0.478829  -8.998506  0.424360             1.098612   \n",
       "695   -7.824421  -0.751441   0.097838  0.264772            -0.000000   \n",
       "1149  -5.620732  -1.551529   0.648793  0.241713             0.366204   \n",
       "696   -5.703567  -0.427513   0.365622  0.132575             0.346574   \n",
       "726   -3.629702  -0.600301   0.600424  0.198146             0.693147   \n",
       "697   -6.435914  -0.704453   1.326372  0.257664             0.922099   \n",
       "1037  -5.562043  -0.636753   0.792933  0.197103             1.945910   \n",
       "887   -6.733548  -1.183246   0.251932  0.186958             1.883154   \n",
       "698   -6.788400  -1.080158   0.140078  0.159321             0.529676   \n",
       "\n",
       "        scores  match_id  \n",
       "0     0.942486         0  \n",
       "811   0.941928         0  \n",
       "808   0.907165         1  \n",
       "1     0.908289         1  \n",
       "2     0.996847         2  \n",
       "1238  0.996693         2  \n",
       "3     0.900551         3  \n",
       "1392  0.901284         3  \n",
       "4     0.542198         4  \n",
       "1048  0.542130         4  \n",
       "5     0.836816         5  \n",
       "1110  0.836617         5  \n",
       "6     0.704649         6  \n",
       "741   0.705007         6  \n",
       "1023  0.954899         7  \n",
       "7     0.955548         7  \n",
       "8     0.934409         8  \n",
       "1113  0.934443         8  \n",
       "9     0.975522         9  \n",
       "915   0.974400         9  \n",
       "997   0.757980        10  \n",
       "10    0.758025        10  \n",
       "797   0.947219        11  \n",
       "11    0.946281        11  \n",
       "12    0.910642        12  \n",
       "1063  0.910780        12  \n",
       "13    0.980814        13  \n",
       "895   0.980645        13  \n",
       "1129  0.985833        14  \n",
       "14    0.987262        14  \n",
       "...        ...       ...  \n",
       "847   0.980313       684  \n",
       "684   0.979119       684  \n",
       "1055  0.895838       685  \n",
       "685   0.896337       685  \n",
       "1213  0.830330       686  \n",
       "686   0.828879       686  \n",
       "687   0.971103       687  \n",
       "1181  0.971522       687  \n",
       "688   0.928907       688  \n",
       "1235  0.927074       688  \n",
       "689   0.991133       689  \n",
       "886   0.991325       689  \n",
       "963   0.960534       690  \n",
       "690   0.961841       690  \n",
       "736   0.993432       691  \n",
       "691   0.993756       691  \n",
       "1388  0.996693       692  \n",
       "692   0.999061       692  \n",
       "1012  0.993093       693  \n",
       "693   0.992506       693  \n",
       "694   0.965824       694  \n",
       "714   0.965087       694  \n",
       "695   0.986712       695  \n",
       "1149  0.985833       695  \n",
       "696   0.795975       696  \n",
       "726   0.795395       696  \n",
       "697   0.955069       697  \n",
       "1037  0.954899       697  \n",
       "887   0.991325       698  \n",
       "698   0.992040       698  \n",
       "\n",
       "[1398 rows x 19 columns]"
      ]
     },
     "execution_count": 98,
     "metadata": {},
     "output_type": "execute_result"
    }
   ],
   "source": [
    "mtest"
   ]
  },
  {
   "cell_type": "markdown",
   "metadata": {},
   "source": [
    "# 資料EDA"
   ]
  },
  {
   "cell_type": "markdown",
   "metadata": {},
   "source": [
    "- 違約與未違約比例 (訓練集:測試集)"
   ]
  },
  {
   "cell_type": "code",
   "execution_count": 99,
   "metadata": {
    "scrolled": false
   },
   "outputs": [
    {
     "data": {
      "text/plain": [
       "<matplotlib.axes._subplots.AxesSubplot at 0x1c1fabeac8>"
      ]
     },
     "execution_count": 99,
     "metadata": {},
     "output_type": "execute_result"
    },
    {
     "data": {
      "image/png": "[encoded data removed]",
      "text/plain": [
       "<Figure size 864x432 with 2 Axes>"
      ]
     },
     "metadata": {
      "needs_background": "light"
     },
     "output_type": "display_data"
    }
   ],
   "source": [
    "plt.figure(figsize=(12,6))\n",
    "plt.subplot(121)\n",
    "dtablefortrain = pd.DataFrame(y_train,columns = ['ID','Default']).Default.value_counts() \n",
    "sns.barplot(dtablefortrain.index, dtablefortrain)\n",
    "plt.subplot(122)\n",
    "dtablefortest = pd.DataFrame(y_test,columns = ['ID','Default']).Default.value_counts()\n",
    "sns.barplot(dtablefortest.index, dtablefortest)"
   ]
  },
  {
   "cell_type": "markdown",
   "metadata": {},
   "source": [
    "- 違約與未違約公司總體環境素質 (訓練集:測試集)"
   ]
  },
  {
   "cell_type": "code",
   "execution_count": 100,
   "metadata": {
    "scrolled": true
   },
   "outputs": [
    {
     "data": {
      "text/plain": [
       "<matplotlib.axes._subplots.AxesSubplot at 0x1c22045a20>"
      ]
     },
     "execution_count": 100,
     "metadata": {},
     "output_type": "execute_result"
    },
    {
     "data": {
      "image/png": "[encoded data removed]",
      "text/plain": [
       "<Figure size 432x432 with 1 Axes>"
      ]
     },
     "metadata": {
      "needs_background": "light"
     },
     "output_type": "display_data"
    }
   ],
   "source": [
    "plt.figure(figsize=(6,6))\n",
    "sns.boxplot(\"Default\" , \"SP500\" ,data = mtest) "
   ]
  },
  {
   "cell_type": "markdown",
   "metadata": {},
   "source": [
    "- 違約與未違約公司媒體情指標 (訓練集:測試集)"
   ]
  },
  {
   "cell_type": "code",
   "execution_count": 101,
   "metadata": {},
   "outputs": [
    {
     "data": {
      "text/plain": [
       "<matplotlib.axes._subplots.AxesSubplot at 0x1c21b81550>"
      ]
     },
     "execution_count": 101,
     "metadata": {},
     "output_type": "execute_result"
    },
    {
     "data": {
      "image/png": "[encoded data removed]",
      "text/plain": [
       "<Figure size 432x432 with 1 Axes>"
      ]
     },
     "metadata": {
      "needs_background": "light"
     },
     "output_type": "display_data"
    }
   ],
   "source": [
    "plt.figure(figsize=(6,6))\n",
    "sns.boxplot(\"Default\" , \"MediaSentimentScore\" ,data = mtest) "
   ]
  },
  {
   "cell_type": "markdown",
   "metadata": {},
   "source": [
    "- 公司成長趨勢與媒體情感指標以違約與否分類"
   ]
  },
  {
   "cell_type": "code",
   "execution_count": 102,
   "metadata": {},
   "outputs": [
    {
     "data": {
      "text/plain": [
       "<matplotlib.axes._subplots.AxesSubplot at 0x1c2239bcc0>"
      ]
     },
     "execution_count": 102,
     "metadata": {},
     "output_type": "execute_result"
    },
    {
     "data": {
      "image/png": "[encoded data removed]",
      "text/plain": [
       "<Figure size 432x432 with 1 Axes>"
      ]
     },
     "metadata": {
      "needs_background": "light"
     },
     "output_type": "display_data"
    }
   ],
   "source": [
    "plt.figure(figsize=(6,6))\n",
    "sns.scatterplot(\"SizeTrend\", \"MediaSentimentScore\",\"Default\",data = mtest)"
   ]
  },
  {
   "cell_type": "markdown",
   "metadata": {},
   "source": [
    "- 各變數相關性"
   ]
  },
  {
   "cell_type": "code",
   "execution_count": 103,
   "metadata": {
    "scrolled": true
   },
   "outputs": [
    {
     "data": {
      "text/plain": [
       "<matplotlib.axes._subplots.AxesSubplot at 0x1c221d3c50>"
      ]
     },
     "execution_count": 103,
     "metadata": {},
     "output_type": "execute_result"
    },
    {
     "data": {
      "image/png": "[encoded data removed]",
      "text/plain": [
       "<Figure size 864x432 with 2 Axes>"
      ]
     },
     "metadata": {
      "needs_background": "light"
     },
     "output_type": "display_data"
    }
   ],
   "source": [
    "cor = mtest.iloc[:,3:-2].corr() \n",
    "plt.figure(figsize=(12,6))\n",
    "sns.heatmap(cor,cmap='Blues',annot=True)"
   ]
  },
  {
   "cell_type": "markdown",
   "metadata": {},
   "source": [
    "# 建立模型"
   ]
  },
  {
   "cell_type": "markdown",
   "metadata": {},
   "source": [
    "## Logistic"
   ]
  },
  {
   "cell_type": "code",
   "execution_count": 104,
   "metadata": {},
   "outputs": [],
   "source": [
    "from sklearn import preprocessing, linear_model\n",
    "from sklearn.model_selection import cross_val_score, cross_val_predict\n",
    "from sklearn import metrics\n",
    "from sklearn.model_selection import StratifiedKFold, GridSearchCV\n",
    "import warnings\n",
    "warnings.filterwarnings(\"ignore\", category=FutureWarning)"
   ]
  },
  {
   "cell_type": "code",
   "execution_count": 108,
   "metadata": {
    "scrolled": false
   },
   "outputs": [
    {
     "name": "stdout",
     "output_type": "stream",
     "text": [
      "CPU times: user 55.9 ms, sys: 3.79 ms, total: 59.7 ms\n",
      "Wall time: 66.9 ms\n"
     ]
    },
    {
     "data": {
      "text/plain": [
       "LogisticRegression(C=7, class_weight={0: 0.5, 1: 0.5}, dual=False,\n",
       "                   fit_intercept=True, intercept_scaling=1, l1_ratio=None,\n",
       "                   max_iter=100, multi_class='warn', n_jobs=None, penalty='l2',\n",
       "                   random_state=87, solver='newton-cg', tol=0.0001, verbose=0,\n",
       "                   warm_start=False)"
      ]
     },
     "execution_count": 108,
     "metadata": {},
     "output_type": "execute_result"
    }
   ],
   "source": [
    "logistic_regr = linear_model.LogisticRegression(C = 7,penalty='l2',random_state=87, class_weight={0: 0.5, 1: 0.5}, solver='newton-cg') # model is built in default\n",
    "%time logistic_regr.fit(x_train,y_train)"
   ]
  },
  {
   "cell_type": "code",
   "execution_count": 106,
   "metadata": {},
   "outputs": [
    {
     "name": "stdout",
     "output_type": "stream",
     "text": [
      "tuned hpyerparameters :(best parameters)  {'C': 7.0}\n"
     ]
    }
   ],
   "source": [
    "logistic=linear_model.LogisticRegression(random_state=87, class_weight={0: 0.5, 1: 0.5}, solver='newton-cg')\n",
    "hyperparameters={\"C\":np.linspace(1,9,9)} \n",
    "clf=GridSearchCV(logistic, hyperparameters, cv=5, scoring='recall')\n",
    "best_model=clf.fit(x_train,y_train)\n",
    "print(\"tuned hpyerparameters :(best parameters) \",best_model.best_params_)"
   ]
  },
  {
   "cell_type": "code",
   "execution_count": 107,
   "metadata": {},
   "outputs": [
    {
     "name": "stdout",
     "output_type": "stream",
     "text": [
      "Cross-validated scores: [0.63555556 0.69196429 0.60986547 0.65919283 0.71300448]\n",
      "average score_accuracy: 0.6619165243077799\n",
      "average score_auc: 0.7133766984430702\n"
     ]
    }
   ],
   "source": [
    "model= linear_model.LogisticRegression(C = 4, penalty='l2', random_state=87) \n",
    "scores_accuracy = cross_val_score(model, x_train, y_train, cv=5,scoring='accuracy')\n",
    "scores_auc = cross_val_score(model, x_train, y_train, cv=5, scoring='roc_auc')\n",
    "print(\"Cross-validated scores:\", scores_accuracy)\n",
    "print('average score_accuracy: {}'.format(scores_accuracy.mean()))\n",
    "print('average score_auc: {}'.format(scores_auc.mean()))"
   ]
  },
  {
   "cell_type": "code",
   "execution_count": 109,
   "metadata": {},
   "outputs": [
    {
     "name": "stdout",
     "output_type": "stream",
     "text": [
      "Training Accuracy: 0.669051878354204\n",
      "Testing Accuracy: 0.7\n"
     ]
    },
    {
     "data": {
      "image/png": "[encoded data removed]",
      "text/plain": [
       "<Figure size 360x360 with 2 Axes>"
      ]
     },
     "metadata": {
      "needs_background": "light"
     },
     "output_type": "display_data"
    }
   ],
   "source": [
    "output(logistic_regr,x_train,y_train,x_test)"
   ]
  },
  {
   "cell_type": "code",
   "execution_count": 111,
   "metadata": {},
   "outputs": [
    {
     "data": {
      "image/png": "[encoded data removed]",
      "text/plain": [
       "<Figure size 432x288 with 1 Axes>"
      ]
     },
     "metadata": {
      "needs_background": "light"
     },
     "output_type": "display_data"
    }
   ],
   "source": [
    "log=np.reshape(abs(logistic_regr.coef_ ), (-1,))\n",
    "predictors= col[4:]\n",
    "tmp = pd.DataFrame({'Feature': predictors, 'Feature importance': log})\n",
    "tmp = tmp.sort_values(by='Feature importance',ascending=False)\n",
    "plt.figure(figsize = (6,4))\n",
    "plt.title('Features importance of Logistic Regreesion',fontsize=14)\n",
    "s = sns.barplot(x='Feature',y='Feature importance',data=tmp)\n",
    "s.set_xticklabels(s.get_xticklabels(),rotation=90)\n",
    "plt.show()   "
   ]
  },
  {
   "cell_type": "markdown",
   "metadata": {},
   "source": [
    "## SVM"
   ]
  },
  {
   "cell_type": "code",
   "execution_count": 112,
   "metadata": {},
   "outputs": [],
   "source": [
    "from sklearn.svm import SVC\n",
    "svm = SVC(kernel='rbf', probability=True,random_state=87)"
   ]
  },
  {
   "cell_type": "code",
   "execution_count": 113,
   "metadata": {},
   "outputs": [
    {
     "name": "stdout",
     "output_type": "stream",
     "text": [
      "CPU times: user 180 ms, sys: 9.95 ms, total: 190 ms\n",
      "Wall time: 231 ms\n"
     ]
    },
    {
     "data": {
      "text/plain": [
       "SVC(C=1.0, cache_size=200, class_weight=None, coef0=0.0,\n",
       "    decision_function_shape='ovr', degree=3, gamma='auto_deprecated',\n",
       "    kernel='rbf', max_iter=-1, probability=True, random_state=87,\n",
       "    shrinking=True, tol=0.001, verbose=False)"
      ]
     },
     "execution_count": 113,
     "metadata": {},
     "output_type": "execute_result"
    }
   ],
   "source": [
    "%time svm.fit(x_train,y_train)"
   ]
  },
  {
   "cell_type": "code",
   "execution_count": 114,
   "metadata": {
    "scrolled": true
   },
   "outputs": [
    {
     "name": "stdout",
     "output_type": "stream",
     "text": [
      "Training Accuracy: 0.7754919499105546\n",
      "Testing Accuracy: 0.7821428571428571\n"
     ]
    },
    {
     "data": {
      "image/png": "[encoded data removed]",
      "text/plain": [
       "<Figure size 360x360 with 2 Axes>"
      ]
     },
     "metadata": {
      "needs_background": "light"
     },
     "output_type": "display_data"
    }
   ],
   "source": [
    "output(svm,x_train,y_train,x_test)"
   ]
  },
  {
   "cell_type": "markdown",
   "metadata": {},
   "source": [
    "## KNN"
   ]
  },
  {
   "cell_type": "code",
   "execution_count": 115,
   "metadata": {},
   "outputs": [],
   "source": [
    "from sklearn.neighbors import KNeighborsClassifier"
   ]
  },
  {
   "cell_type": "code",
   "execution_count": 118,
   "metadata": {},
   "outputs": [
    {
     "name": "stdout",
     "output_type": "stream",
     "text": [
      "CPU times: user 2.62 ms, sys: 960 µs, total: 3.58 ms\n",
      "Wall time: 3.33 ms\n"
     ]
    },
    {
     "data": {
      "text/plain": [
       "KNeighborsClassifier(algorithm='auto', leaf_size=30, metric='minkowski',\n",
       "                     metric_params=None, n_jobs=None, n_neighbors=90, p=2,\n",
       "                     weights='uniform')"
      ]
     },
     "execution_count": 118,
     "metadata": {},
     "output_type": "execute_result"
    }
   ],
   "source": [
    "knn = KNeighborsClassifier(n_neighbors=90)\n",
    "%time knn.fit(x_train,y_train)"
   ]
  },
  {
   "cell_type": "code",
   "execution_count": 117,
   "metadata": {},
   "outputs": [
    {
     "name": "stdout",
     "output_type": "stream",
     "text": [
      "tuned hpyerparameters :(best parameters)  {'n_neighbors': 90}\n"
     ]
    }
   ],
   "source": [
    "KnnClassifier = KNeighborsClassifier(n_neighbors=1)\n",
    "hyperparameters={\"n_neighbors\":np.arange(20,100,10)} \n",
    "clf=GridSearchCV(KnnClassifier, hyperparameters, cv=5, scoring='recall')\n",
    "best_model=clf.fit(x_train,y_train)\n",
    "print(\"tuned hpyerparameters :(best parameters) \",best_model.best_params_)"
   ]
  },
  {
   "cell_type": "code",
   "execution_count": 119,
   "metadata": {},
   "outputs": [
    {
     "name": "stdout",
     "output_type": "stream",
     "text": [
      "Training Accuracy: 0.6762075134168157\n",
      "Testing Accuracy: 0.6464285714285715\n"
     ]
    },
    {
     "data": {
      "image/png": "[encoded data removed]",
      "text/plain": [
       "<Figure size 360x360 with 2 Axes>"
      ]
     },
     "metadata": {
      "needs_background": "light"
     },
     "output_type": "display_data"
    }
   ],
   "source": [
    "output(knn,x_train,y_train,x_test)"
   ]
  },
  {
   "cell_type": "markdown",
   "metadata": {},
   "source": [
    "## Random Forest"
   ]
  },
  {
   "cell_type": "code",
   "execution_count": 120,
   "metadata": {},
   "outputs": [],
   "source": [
    "from sklearn import ensemble"
   ]
  },
  {
   "cell_type": "code",
   "execution_count": 123,
   "metadata": {},
   "outputs": [
    {
     "name": "stdout",
     "output_type": "stream",
     "text": [
      "CPU times: user 1.07 s, sys: 20.4 ms, total: 1.09 s\n",
      "Wall time: 1.22 s\n"
     ]
    },
    {
     "data": {
      "text/plain": [
       "RandomForestClassifier(bootstrap=True, class_weight=None, criterion='gini',\n",
       "                       max_depth=6, max_features='auto', max_leaf_nodes=None,\n",
       "                       min_impurity_decrease=0.0, min_impurity_split=None,\n",
       "                       min_samples_leaf=1, min_samples_split=2,\n",
       "                       min_weight_fraction_leaf=0.0, n_estimators=600,\n",
       "                       n_jobs=None, oob_score=False, random_state=87, verbose=0,\n",
       "                       warm_start=False)"
      ]
     },
     "execution_count": 123,
     "metadata": {},
     "output_type": "execute_result"
    }
   ],
   "source": [
    "forest = ensemble.RandomForestClassifier(n_estimators = 600, max_features='auto', random_state=87, max_depth=6)\n",
    "%time forest.fit(x_train,y_train)"
   ]
  },
  {
   "cell_type": "code",
   "execution_count": 122,
   "metadata": {},
   "outputs": [
    {
     "name": "stdout",
     "output_type": "stream",
     "text": [
      "tuned hpyerparameters :(best parameters)  {'max_depth': 6.0, 'n_estimators': 600}\n"
     ]
    }
   ],
   "source": [
    "RandomForestClassifier=ensemble.RandomForestClassifier(max_features='auto', random_state=87)\n",
    "hyperparameters={\"n_estimators\":np.arange(100,700,100),\n",
    "                \"max_depth\":np.linspace(4,6,3)} \n",
    "clf=GridSearchCV(RandomForestClassifier, hyperparameters, cv=5, scoring='recall')\n",
    "best_model=clf.fit(x_train,y_train)\n",
    "print(\"tuned hpyerparameters :(best parameters) \",best_model.best_params_)"
   ]
  },
  {
   "cell_type": "code",
   "execution_count": 124,
   "metadata": {},
   "outputs": [
    {
     "name": "stdout",
     "output_type": "stream",
     "text": [
      "Training Accuracy: 0.9722719141323792\n",
      "Testing Accuracy: 0.9035714285714286\n"
     ]
    },
    {
     "data": {
      "image/png": "[encoded data removed]",
      "text/plain": [
       "<Figure size 360x360 with 2 Axes>"
      ]
     },
     "metadata": {
      "needs_background": "light"
     },
     "output_type": "display_data"
    }
   ],
   "source": [
    "output(forest,x_train,y_train,x_test)"
   ]
  },
  {
   "cell_type": "code",
   "execution_count": 125,
   "metadata": {},
   "outputs": [
    {
     "data": {
      "image/png": "[encoded data removed]",
      "text/plain": [
       "<Figure size 432x288 with 1 Axes>"
      ]
     },
     "metadata": {
      "needs_background": "light"
     },
     "output_type": "display_data"
    }
   ],
   "source": [
    "predictors= col[4:]\n",
    "tmp = pd.DataFrame({'Feature': predictors, 'Feature importance': forest.feature_importances_})\n",
    "tmp = tmp.sort_values(by='Feature importance',ascending=False)\n",
    "plt.figure(figsize = (6,4))\n",
    "plt.title('Features importance of Random Forest',fontsize=14)\n",
    "s = sns.barplot(x='Feature',y='Feature importance',data=tmp)\n",
    "s.set_xticklabels(s.get_xticklabels(),rotation=90)\n",
    "plt.show()"
   ]
  },
  {
   "cell_type": "markdown",
   "metadata": {},
   "source": [
    "## XGBOOST"
   ]
  },
  {
   "cell_type": "code",
   "execution_count": 126,
   "metadata": {},
   "outputs": [],
   "source": [
    "import os\n",
    "os.environ['KMP_DUPLICATE_LIB_OK']='True'\n",
    "from xgboost.sklearn import XGBClassifier\n",
    "from sklearn import metrics"
   ]
  },
  {
   "cell_type": "code",
   "execution_count": 129,
   "metadata": {
    "scrolled": false
   },
   "outputs": [
    {
     "name": "stdout",
     "output_type": "stream",
     "text": [
      "CPU times: user 170 ms, sys: 4.32 ms, total: 175 ms\n",
      "Wall time: 218 ms\n"
     ]
    },
    {
     "data": {
      "text/plain": [
       "XGBClassifier(base_score=0.5, booster='gbtree', colsample_bylevel=1,\n",
       "              colsample_bynode=1, colsample_bytree=1, gamma=0,\n",
       "              learning_rate=0.1, max_delta_step=0, max_depth=5,\n",
       "              min_child_weight=1, missing=None, n_estimators=80, n_jobs=1,\n",
       "              nthread=None, objective='binary:logistic', random_state=87,\n",
       "              reg_alpha=0, reg_lambda=1, scale_pos_weight=1, seed=None,\n",
       "              silent=None, subsample=0.9, verbosity=1)"
      ]
     },
     "execution_count": 129,
     "metadata": {},
     "output_type": "execute_result"
    }
   ],
   "source": [
    "xgb_class = XGBClassifier(random_state=87, n_estimators=80 , max_depth=5, subsample=0.9)\n",
    "%time xgb_class.fit(x_train,y_train)"
   ]
  },
  {
   "cell_type": "code",
   "execution_count": 128,
   "metadata": {},
   "outputs": [
    {
     "name": "stdout",
     "output_type": "stream",
     "text": [
      "tuned hpyerparameters :(best parameters)  {'max_depth': 5, 'n_estimators': 80}\n"
     ]
    }
   ],
   "source": [
    "xGBClassifier= XGBClassifier(random_state=87, subsample=0.9)\n",
    "hyperparameters={\"n_estimators\":np.arange(20,100,20),\n",
    "                 \"max_depth\" : np.arange(4,6,1)} \n",
    "clf=GridSearchCV(xGBClassifier, hyperparameters, cv=5, scoring='recall')\n",
    "best_model=clf.fit(x_train,y_train)\n",
    "print(\"tuned hpyerparameters :(best parameters) \",best_model.best_params_)"
   ]
  },
  {
   "cell_type": "code",
   "execution_count": 130,
   "metadata": {},
   "outputs": [],
   "source": [
    "import warnings\n",
    "warnings.filterwarnings(module='sklearn*', action='ignore', category=DeprecationWarning)"
   ]
  },
  {
   "cell_type": "code",
   "execution_count": 131,
   "metadata": {},
   "outputs": [
    {
     "name": "stdout",
     "output_type": "stream",
     "text": [
      "Training Accuracy: 0.9946332737030411\n",
      "Testing Accuracy: 0.8892857142857142\n"
     ]
    },
    {
     "data": {
      "image/png": "[encoded data removed]",
      "text/plain": [
       "<Figure size 360x360 with 2 Axes>"
      ]
     },
     "metadata": {
      "needs_background": "light"
     },
     "output_type": "display_data"
    }
   ],
   "source": [
    "output(xgb_class,x_train,y_train,x_test)"
   ]
  },
  {
   "cell_type": "code",
   "execution_count": 132,
   "metadata": {},
   "outputs": [
    {
     "data": {
      "image/png": "[encoded data removed]",
      "text/plain": [
       "<Figure size 432x288 with 1 Axes>"
      ]
     },
     "metadata": {
      "needs_background": "light"
     },
     "output_type": "display_data"
    }
   ],
   "source": [
    "predictors= col[4:]\n",
    "tmp = pd.DataFrame({'Feature': predictors, 'Feature importance': xgb_class.feature_importances_})\n",
    "tmp = tmp.sort_values(by='Feature importance',ascending=False)\n",
    "plt.figure(figsize = (6,4))\n",
    "plt.title('Features importance of XGBoost',fontsize=14)\n",
    "s = sns.barplot(x='Feature',y='Feature importance',data=tmp)\n",
    "s.set_xticklabels(s.get_xticklabels(),rotation=90)\n",
    "plt.show()   "
   ]
  },
  {
   "cell_type": "markdown",
   "metadata": {},
   "source": [
    "## 各模型相關性"
   ]
  },
  {
   "cell_type": "code",
   "execution_count": 133,
   "metadata": {},
   "outputs": [
    {
     "data": {
      "image/png": "[encoded data removed]",
      "text/plain": [
       "<Figure size 864x432 with 2 Axes>"
      ]
     },
     "metadata": {
      "needs_background": "light"
     },
     "output_type": "display_data"
    }
   ],
   "source": [
    "models = {\"Logistic Regression\":logistic_regr,\"SVM\":svm,\"Random Forest\":forest,\"XGBoost\":xgb_class,\"KNN\":knn}\n",
    "def modelcor(modeldict,x):\n",
    "    predictable = np.zeros((len(x),0))\n",
    "    for i in modeldict:\n",
    "        predict = modeldict[i].predict(x)\n",
    "        predictable = np.column_stack((predictable,predict))\n",
    "    predictable = pd.DataFrame(predictable)\n",
    "    predictable.columns = models.keys()\n",
    "    cor = predictable.corr() \n",
    "    plt.figure(figsize=(12,6))\n",
    "    sns.heatmap(cor,cmap='Blues',annot=True)\n",
    "modelcor(models,x_train)"
   ]
  },
  {
   "cell_type": "markdown",
   "metadata": {},
   "source": [
    "## Stacking"
   ]
  },
  {
   "cell_type": "code",
   "execution_count": 134,
   "metadata": {},
   "outputs": [],
   "source": [
    "from vecstack import stacking"
   ]
  },
  {
   "cell_type": "markdown",
   "metadata": {},
   "source": [
    "- 第一層"
   ]
  },
  {
   "cell_type": "code",
   "execution_count": 135,
   "metadata": {},
   "outputs": [],
   "source": [
    "stackmodel1st = [    \n",
    "    KNeighborsClassifier(n_neighbors=90),\n",
    "    SVC(kernel='rbf', probability=True),  \n",
    "    XGBClassifier(random_state=87, n_estimators=80 , max_depth=5, subsample=0.9)\n",
    "]"
   ]
  },
  {
   "cell_type": "code",
   "execution_count": 136,
   "metadata": {
    "scrolled": true
   },
   "outputs": [
    {
     "name": "stdout",
     "output_type": "stream",
     "text": [
      "task:         [classification]\n",
      "n_classes:    [2]\n",
      "metric:       [log_loss]\n",
      "mode:         [oof_pred_bag]\n",
      "n_models:     [3]\n",
      "\n",
      "model  0:     [KNeighborsClassifier]\n",
      "    fold  0:  [0.62782296]\n",
      "    fold  1:  [0.62898729]\n",
      "    fold  2:  [0.58488233]\n",
      "    fold  3:  [0.57963441]\n",
      "    fold  4:  [0.56008060]\n",
      "    ----\n",
      "    MEAN:     [0.59628152] + [0.02750311]\n",
      "    FULL:     [0.59636720]\n",
      "\n",
      "model  1:     [SVC]\n",
      "    fold  0:  [0.55872074]\n",
      "    fold  1:  [0.51651617]\n",
      "    fold  2:  [0.58144524]\n",
      "    fold  3:  [0.50173567]\n",
      "    fold  4:  [0.50069727]\n",
      "    ----\n",
      "    MEAN:     [0.53182302] + [0.03253986]\n",
      "    FULL:     [0.53185744]\n",
      "\n",
      "model  2:     [XGBClassifier]\n",
      "    fold  0:  [0.22505354]\n",
      "    fold  1:  [0.19542448]\n",
      "    fold  2:  [0.26551749]\n",
      "    fold  3:  [0.23739604]\n",
      "    fold  4:  [0.22988550]\n",
      "    ----\n",
      "    MEAN:     [0.23065541] + [0.02251219]\n",
      "    FULL:     [0.23061388]\n",
      "\n",
      "CPU times: user 1.23 s, sys: 23.9 ms, total: 1.25 s\n",
      "Wall time: 1.45 s\n"
     ]
    }
   ],
   "source": [
    "%time S_train , S_test = stacking(stackmodel1st, x_train, y_train, x_test, regression=False, mode='oof_pred_bag', needs_proba=True, save_dir=None, n_folds=5, stratified=True, shuffle=True, random_state=87, verbose=2)"
   ]
  },
  {
   "cell_type": "markdown",
   "metadata": {},
   "source": [
    "- 第二層"
   ]
  },
  {
   "cell_type": "code",
   "execution_count": 139,
   "metadata": {
    "scrolled": true
   },
   "outputs": [
    {
     "name": "stdout",
     "output_type": "stream",
     "text": [
      "CPU times: user 22.3 ms, sys: 2.48 ms, total: 24.8 ms\n",
      "Wall time: 17.6 ms\n"
     ]
    },
    {
     "data": {
      "text/plain": [
       "LogisticRegression(C=100, class_weight={0: 0.5, 1: 0.5}, dual=False,\n",
       "                   fit_intercept=True, intercept_scaling=1, l1_ratio=None,\n",
       "                   max_iter=100, multi_class='warn', n_jobs=None, penalty='l2',\n",
       "                   random_state=87, solver='newton-cg', tol=0.0001, verbose=0,\n",
       "                   warm_start=False)"
      ]
     },
     "execution_count": 139,
     "metadata": {},
     "output_type": "execute_result"
    }
   ],
   "source": [
    "stackmodel2nd  =linear_model.LogisticRegression(C=100, penalty='l2',random_state=87, solver='newton-cg', class_weight={0: 0.5, 1: 0.5})\n",
    "%time stackmodel2nd.fit(S_train,y_train)"
   ]
  },
  {
   "cell_type": "code",
   "execution_count": 138,
   "metadata": {},
   "outputs": [
    {
     "name": "stdout",
     "output_type": "stream",
     "text": [
      "tuned hpyerparameters :(best parameters)  {'C': 100.0}\n"
     ]
    }
   ],
   "source": [
    "loglin = linear_model.LogisticRegression(penalty='l2',random_state=87, solver='newton-cg', class_weight={0: 0.5, 1: 0.5})\n",
    "hyperparameters={\"C\":np.logspace(-3,3,7)} \n",
    "clf=GridSearchCV(loglin, hyperparameters, cv=5, scoring='recall')\n",
    "best_model=clf.fit(S_train,y_train)\n",
    "print(\"tuned hpyerparameters :(best parameters) \",best_model.best_params_)"
   ]
  },
  {
   "cell_type": "code",
   "execution_count": 140,
   "metadata": {},
   "outputs": [
    {
     "name": "stdout",
     "output_type": "stream",
     "text": [
      "Training Accuracy: 0.9105545617173524\n",
      "Testing Accuracy: 0.9178571428571428\n"
     ]
    },
    {
     "data": {
      "image/png": "[encoded data removed]",
      "text/plain": [
       "<Figure size 360x360 with 2 Axes>"
      ]
     },
     "metadata": {
      "needs_background": "light"
     },
     "output_type": "display_data"
    }
   ],
   "source": [
    "output(stackmodel2nd,S_train,y_train,S_test)"
   ]
  },
  {
   "cell_type": "code",
   "execution_count": 141,
   "metadata": {},
   "outputs": [
    {
     "data": {
      "image/png": "[encoded data removed]",
      "text/plain": [
       "<Figure size 432x288 with 1 Axes>"
      ]
     },
     "metadata": {
      "needs_background": "light"
     },
     "output_type": "display_data"
    }
   ],
   "source": [
    "log=np.reshape(abs(stackmodel2nd.coef_ [0][0::2]), (-1,))\n",
    "predictors= [\"KNN\",\"SVM\",\"XGBoost\"]\n",
    "tmp = pd.DataFrame({'Feature': predictors, 'Feature importance': log})\n",
    "tmp = tmp.sort_values(by='Feature importance',ascending=False)\n",
    "plt.figure(figsize = (6,4))\n",
    "plt.title('Features importance of Logistic Regreesion',fontsize=14)\n",
    "s = sns.barplot(x='Feature',y='Feature importance',data=tmp)\n",
    "s.set_xticklabels(s.get_xticklabels(),rotation=90)\n",
    "plt.show() "
   ]
  },
  {
   "cell_type": "markdown",
   "metadata": {},
   "source": [
    "## Blending"
   ]
  },
  {
   "cell_type": "markdown",
   "metadata": {},
   "source": [
    "### 拆分訓練集驗證集"
   ]
  },
  {
   "cell_type": "code",
   "execution_count": 142,
   "metadata": {
    "scrolled": true
   },
   "outputs": [
    {
     "name": "stdout",
     "output_type": "stream",
     "text": [
      "(670, 11) (670,)\n",
      "(448, 11) (448,)\n"
     ]
    }
   ],
   "source": [
    "x_train, x_val, y_train, y_val = train_test_split(x_train, y_train, test_size=0.4,random_state=426)\n",
    "print(x_train.shape, y_train.shape)\n",
    "print(x_val.shape, y_val.shape)                                         "
   ]
  },
  {
   "cell_type": "markdown",
   "metadata": {},
   "source": [
    "### KNN"
   ]
  },
  {
   "cell_type": "code",
   "execution_count": 143,
   "metadata": {},
   "outputs": [],
   "source": [
    "bknn = KNeighborsClassifier(n_neighbors=90)\n",
    "bknn.fit(np.array(x_train),y_train)\n",
    "predict_knn = bknn.predict_proba(np.array(x_val))"
   ]
  },
  {
   "cell_type": "markdown",
   "metadata": {},
   "source": [
    "### SVM"
   ]
  },
  {
   "cell_type": "code",
   "execution_count": 144,
   "metadata": {},
   "outputs": [],
   "source": [
    "bsvm = SVC(kernel='rbf', probability=True)\n",
    "bsvm.fit(x_train,y_train)\n",
    "predict_svm = bsvm.predict_proba(x_val)"
   ]
  },
  {
   "cell_type": "markdown",
   "metadata": {},
   "source": [
    "### XGBoost"
   ]
  },
  {
   "cell_type": "code",
   "execution_count": 145,
   "metadata": {},
   "outputs": [],
   "source": [
    "bxgb = XGBClassifier(random_state=87, n_estimators=80 , max_depth=5, subsample=0.9)\n",
    "bxgb.fit(np.array(x_train),y_train)\n",
    "predict_xgb = bxgb.predict_proba(np.array(x_val))"
   ]
  },
  {
   "cell_type": "markdown",
   "metadata": {},
   "source": [
    "### 集合特徵"
   ]
  },
  {
   "cell_type": "code",
   "execution_count": 146,
   "metadata": {},
   "outputs": [
    {
     "name": "stdout",
     "output_type": "stream",
     "text": [
      "(448, 6)\n"
     ]
    }
   ],
   "source": [
    "B_train=np.concatenate((predict_xgb,predict_svm,predict_knn),axis=1)\n",
    "print(B_train.shape)"
   ]
  },
  {
   "cell_type": "markdown",
   "metadata": {},
   "source": [
    "### 測試集經過第一層模型"
   ]
  },
  {
   "cell_type": "code",
   "execution_count": 147,
   "metadata": {},
   "outputs": [
    {
     "name": "stdout",
     "output_type": "stream",
     "text": [
      "(280, 6)\n"
     ]
    }
   ],
   "source": [
    "x_test2=np.array(x_test)\n",
    "test_svm = bsvm.predict_proba(x_test2)\n",
    "test_xgb = bxgb.predict_proba(x_test2)\n",
    "test_knn = bknn.predict_proba(x_test2)\n",
    "B_test=np.concatenate((test_xgb,test_svm,test_knn),axis=1)\n",
    "print(B_test.shape)"
   ]
  },
  {
   "cell_type": "markdown",
   "metadata": {},
   "source": [
    "### Logistic(第二層)"
   ]
  },
  {
   "cell_type": "code",
   "execution_count": 150,
   "metadata": {},
   "outputs": [
    {
     "name": "stdout",
     "output_type": "stream",
     "text": [
      "CPU times: user 1.94 ms, sys: 434 µs, total: 2.37 ms\n",
      "Wall time: 2.18 ms\n"
     ]
    },
    {
     "data": {
      "text/plain": [
       "LogisticRegression(C=1, class_weight={0: 0.5, 1: 0.5}, dual=False,\n",
       "                   fit_intercept=True, intercept_scaling=1, l1_ratio=None,\n",
       "                   max_iter=100, multi_class='warn', n_jobs=None, penalty='l2',\n",
       "                   random_state=87, solver='warn', tol=0.0001, verbose=0,\n",
       "                   warm_start=False)"
      ]
     },
     "execution_count": 150,
     "metadata": {},
     "output_type": "execute_result"
    }
   ],
   "source": [
    "blogistic_regr= linear_model.LogisticRegression(C=1, penalty='l2',random_state=87, class_weight={0: 0.5, 1: 0.5})\n",
    "%time blogistic_regr.fit(B_train,y_val)"
   ]
  },
  {
   "cell_type": "code",
   "execution_count": 149,
   "metadata": {},
   "outputs": [
    {
     "name": "stdout",
     "output_type": "stream",
     "text": [
      "tuned hpyerparameters :(best parameters)  {'C': 1.0}\n"
     ]
    }
   ],
   "source": [
    "loglinb = linear_model.LogisticRegression(penalty='l2',random_state=87, solver='newton-cg', class_weight={0: 0.5, 1: 0.5})\n",
    "hyperparameters={\"C\":np.logspace(-3,3,7)} \n",
    "clf=GridSearchCV(loglinb, hyperparameters, cv=5, scoring='recall')\n",
    "best_model=clf.fit(B_train,y_val)\n",
    "print(\"tuned hpyerparameters :(best parameters) \",best_model.best_params_)"
   ]
  },
  {
   "cell_type": "code",
   "execution_count": 151,
   "metadata": {},
   "outputs": [
    {
     "name": "stdout",
     "output_type": "stream",
     "text": [
      "Training Accuracy: 0.8883928571428571\n",
      "Testing Accuracy: 0.8964285714285715\n"
     ]
    },
    {
     "data": {
      "image/png": "[encoded data removed]",
      "text/plain": [
       "<Figure size 360x360 with 2 Axes>"
      ]
     },
     "metadata": {
      "needs_background": "light"
     },
     "output_type": "display_data"
    }
   ],
   "source": [
    "output(blogistic_regr,B_train,y_val,B_test)"
   ]
  },
  {
   "cell_type": "code",
   "execution_count": 152,
   "metadata": {},
   "outputs": [
    {
     "data": {
      "image/png": "[encoded data removed]",
      "text/plain": [
       "<Figure size 432x288 with 1 Axes>"
      ]
     },
     "metadata": {
      "needs_background": "light"
     },
     "output_type": "display_data"
    }
   ],
   "source": [
    "log=np.reshape(abs(blogistic_regr.coef_ [0][0::2]), (-1,))\n",
    "predictors= [\"XGBoost\",\"SVM\",\"KNN\"]\n",
    "tmp = pd.DataFrame({'Feature': predictors, 'Feature importance': log})\n",
    "tmp = tmp.sort_values(by='Feature importance',ascending=False)\n",
    "plt.figure(figsize = (6,4))\n",
    "plt.title('Features importance of Logistic Regreesion',fontsize=14)\n",
    "s = sns.barplot(x='Feature',y='Feature importance',data=tmp)\n",
    "s.set_xticklabels(s.get_xticklabels(),rotation=90)\n",
    "plt.show() "
   ]
  },
  {
   "cell_type": "markdown",
   "metadata": {},
   "source": [
    "# 各模型ROC"
   ]
  },
  {
   "cell_type": "code",
   "execution_count": 153,
   "metadata": {},
   "outputs": [
    {
     "data": {
      "image/png": "[encoded data removed]",
      "text/plain": [
       "<Figure size 864x648 with 1 Axes>"
      ]
     },
     "metadata": {
      "needs_background": "light"
     },
     "output_type": "display_data"
    }
   ],
   "source": [
    "from sklearn.metrics import roc_curve, auc\n",
    "\n",
    "y_pred_proba1 = logistic_regr.predict_proba(x_test)[:, 1]\n",
    "[fpr1, tpr1, thr1] = roc_curve(y_test, y_pred_proba1)\n",
    "plt.figure(figsize=(12,9))\n",
    "plt.plot(fpr1, tpr1, color='#5ca0d3', label='Logistic Regression')\n",
    "\n",
    "y_pred_proba2 = svm.predict_proba(x_test)[:, 1]\n",
    "[fpr2, tpr2, thr2] = roc_curve(y_test, y_pred_proba2)\n",
    "plt.plot(fpr2, tpr2, color='#226597', label='SVM')\n",
    "\n",
    "y_pred_proba3 = forest.predict_proba(x_test)[:, 1]\n",
    "[fpr3, tpr3, thr3] = roc_curve(y_test, y_pred_proba3)\n",
    "plt.plot(fpr3, tpr3, color='#f36a7b', label='Random Forest')\n",
    "\n",
    "y_pred_proba4 = xgb_class.predict_proba(x_test)[:, 1]\n",
    "[fpr4, tpr4, thr4] = roc_curve(y_test, y_pred_proba4)\n",
    "plt.plot(fpr4, tpr4, color='#fabc60', label='XGB')\n",
    "\n",
    "y_pred_proba5 = stackmodel2nd.predict_proba(S_test)[:, 1]\n",
    "[fpr5, tpr5, thr5] = roc_curve(y_test, y_pred_proba5)\n",
    "plt.plot(fpr5, tpr5, color='#880000', label='Stacking')\n",
    "\n",
    "y_pred_proba6 = blogistic_regr.predict_proba(B_test)[:, 1]\n",
    "[fpr6, tpr6, thr6] = roc_curve(y_test, y_pred_proba6)\n",
    "plt.plot(fpr6, tpr6, color='#800080', label='Blending')\n",
    "\n",
    "y_pred_proba7 = knn.predict_proba(x_test)[:, 1]\n",
    "[fpr7, tpr7, thr7] = roc_curve(y_test, y_pred_proba7)\n",
    "plt.plot(fpr7, tpr7, color='#FF0000', label='KNN')\n",
    "\n",
    "plt.plot([0, 1], [0, 1],color='#022c43')\n",
    "plt.xlim([0.0, 1.0])\n",
    "plt.ylim([0.0, 1.0])\n",
    "plt.xlabel('False Positive Rate (1 - specificity)', fontsize=14)\n",
    "plt.ylabel('True Positive Rate (recall)', fontsize=14)\n",
    "plt.title('ROC Curve')\n",
    "plt.legend(loc=\"lower right\")\n",
    "plt.show()"
   ]
  },
  {
   "cell_type": "code",
   "execution_count": 154,
   "metadata": {},
   "outputs": [
    {
     "name": "stdout",
     "output_type": "stream",
     "text": [
      "AUC of KNN : 0.7240059210862131\n",
      "AUC of Logistic Regresision : 0.7608595783778265\n",
      "AUC of SVM : 0.8677453932928386\n",
      "AUC of XGBoost : 0.9672808942881935\n",
      "AUC of Blending : 0.9674850696748507\n",
      "AUC of Random Forest : 0.9692205604614363\n",
      "AUC of Stacking : 0.9742228574345362\n"
     ]
    }
   ],
   "source": [
    "from operator import itemgetter\n",
    "rocdict = [{'name': \"Logistic Regresision\", 'AUC': auc(fpr1, tpr1)},\n",
    "                 {'name': \"Random Forest\", 'AUC': auc(fpr3, tpr3)},\n",
    "                 {'name': \"SVM\", 'AUC': auc(fpr2, tpr2)},\n",
    "                 {'name': \"XGBoost\", 'AUC': auc(fpr4, tpr4)}, \n",
    "                 {'name': \"KNN\",'AUC': auc(fpr7, tpr7)},\n",
    "                 {'name': \"Stacking\",'AUC': auc(fpr5, tpr5)},\n",
    "                 {'name': \"Blending\",'AUC': auc(fpr6, tpr6)}\n",
    "                ]\n",
    "rocdict.sort(key=itemgetter('AUC'))\n",
    "for idx,model in enumerate(rocdict):\n",
    "    print(\"AUC of\",model[\"name\"],\":\",model[\"AUC\"])"
   ]
  },
  {
   "cell_type": "code",
   "execution_count": null,
   "metadata": {},
   "outputs": [],
   "source": []
  }
 ],
 "metadata": {
  "kernelspec": {
   "display_name": "Python 3",
   "language": "python",
   "name": "python3"
  },
  "language_info": {
   "codemirror_mode": {
    "name": "ipython",
    "version": 3
   },
   "file_extension": ".py",
   "mimetype": "text/x-python",
   "name": "python",
   "nbconvert_exporter": "python",
   "pygments_lexer": "ipython3",
   "version": "3.7.3"
  }
 },
 "nbformat": 4,
 "nbformat_minor": 2
}
