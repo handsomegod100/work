{
 "cells": [
  {
   "cell_type": "code",
   "execution_count": 30,
   "metadata": {},
   "outputs": [],
   "source": [
    "import random"
   ]
  },
  {
   "cell_type": "code",
   "execution_count": 35,
   "metadata": {},
   "outputs": [
    {
     "name": "stdout",
     "output_type": "stream",
     "text": [
      "換選另一個門得到車子的機率為0.6556\n"
     ]
    }
   ],
   "source": [
    "bag = []\n",
    "for i in range(10000):\n",
    "    prize = [\"羊\",\"羊\",\"車\"]\n",
    "    choose = random.choice(prize)\n",
    "    prize.remove(choose)\n",
    "    prize.remove(\"羊\")\n",
    "    bag.append(prize[0])\n",
    "print(\"換選另一個門得到車子的機率為{}\".format(bag.count(\"車\")/10000))"
   ]
  },
  {
   "cell_type": "code",
   "execution_count": null,
   "metadata": {},
   "outputs": [],
   "source": []
  }
 ],
 "metadata": {
  "kernelspec": {
   "display_name": "Python 3",
   "language": "python",
   "name": "python3"
  },
  "language_info": {
   "codemirror_mode": {
    "name": "ipython",
    "version": 3
   },
   "file_extension": ".py",
   "mimetype": "text/x-python",
   "name": "python",
   "nbconvert_exporter": "python",
   "pygments_lexer": "ipython3",
   "version": "3.7.3"
  }
 },
 "nbformat": 4,
 "nbformat_minor": 2
}
