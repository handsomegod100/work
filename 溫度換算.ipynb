{
 "cells": [
  {
   "cell_type": "code",
   "execution_count": 25,
   "metadata": {},
   "outputs": [],
   "source": [
    "def change():\n",
    "    ans = (input(\"請輸入功能(1:攝氏轉華氏,2:華氏轉攝氏)：\"))\n",
    "    if ans == \"1\" :\n",
    "        c = float(input(\"請輸入攝氏溫度：\"))\n",
    "        f = c  * 9 / 5  + 32\n",
    "        print(\"攝氏{}度是華氏{}度\".format(c,f))\n",
    "    elif ans == \"2\" :\n",
    "        f = float(input(\"請輸華氏溫度：\"))\n",
    "        c = f  * 5 / 9  - 32\n",
    "        print(\"華氏{}度是攝氏{}度\".format(f,c))\n",
    "    else :\n",
    "        print(\"請輸入正確數字\")"
   ]
  },
  {
   "cell_type": "code",
   "execution_count": 26,
   "metadata": {},
   "outputs": [
    {
     "name": "stdout",
     "output_type": "stream",
     "text": [
      "請輸入功能(1:攝氏轉華氏,2:華氏轉攝氏)：1\n",
      "請輸入攝氏溫度：0\n",
      "攝氏0.0度是華氏32.0度\n"
     ]
    }
   ],
   "source": [
    "change()"
   ]
  },
  {
   "cell_type": "code",
   "execution_count": null,
   "metadata": {},
   "outputs": [],
   "source": []
  }
 ],
 "metadata": {
  "kernelspec": {
   "display_name": "Python 3",
   "language": "python",
   "name": "python3"
  },
  "language_info": {
   "codemirror_mode": {
    "name": "ipython",
    "version": 3
   },
   "file_extension": ".py",
   "mimetype": "text/x-python",
   "name": "python",
   "nbconvert_exporter": "python",
   "pygments_lexer": "ipython3",
   "version": "3.7.3"
  }
 },
 "nbformat": 4,
 "nbformat_minor": 2
}
