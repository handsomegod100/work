{
 "cells": [
  {
   "cell_type": "code",
   "execution_count": 163,
   "metadata": {},
   "outputs": [],
   "source": [
    "import sympy as sp\n",
    "import numpy as np"
   ]
  },
  {
   "cell_type": "code",
   "execution_count": 164,
   "metadata": {},
   "outputs": [],
   "source": [
    "x = sp.symbols(\"x\")"
   ]
  },
  {
   "cell_type": "code",
   "execution_count": 165,
   "metadata": {},
   "outputs": [
    {
     "name": "stdout",
     "output_type": "stream",
     "text": [
      "計算一元二次問題\n",
      "請輸入二次方係數:1\n",
      "請輸入一次方係數:0\n",
      "請輸入常數:-1\n",
      "解為 -1 和 1\n"
     ]
    }
   ],
   "source": [
    "print(\"計算一元二次問題\")\n",
    "t = sp.sympify(input(\"請輸入二次方係數:\"))\n",
    "o = sp.sympify(input(\"請輸入一次方係數:\"))\n",
    "c = sp.sympify(input(\"請輸入常數:\"))\n",
    "f = t*x**2+o*x+c \n",
    "ans = list(sp.roots(f))\n",
    "print(\"解為\",ans[0],\"和\",ans[1])"
   ]
  },
  {
   "cell_type": "code",
   "execution_count": null,
   "metadata": {},
   "outputs": [],
   "source": []
  }
 ],
 "metadata": {
  "kernelspec": {
   "display_name": "Python 3",
   "language": "python",
   "name": "python3"
  },
  "language_info": {
   "codemirror_mode": {
    "name": "ipython",
    "version": 3
   },
   "file_extension": ".py",
   "mimetype": "text/x-python",
   "name": "python",
   "nbconvert_exporter": "python",
   "pygments_lexer": "ipython3",
   "version": "3.7.3"
  }
 },
 "nbformat": 4,
 "nbformat_minor": 2
}
