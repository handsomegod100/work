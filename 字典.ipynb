{
 "cells": [
  {
   "cell_type": "code",
   "execution_count": 15,
   "metadata": {},
   "outputs": [],
   "source": [
    "dictionary = {\"apple\":\"蘋果\",\"banana\":\"香蕉\",\"laptop\":\"筆電\"}\n",
    "dictionaryc = {value:key for key,value in dictionary.items()}\n",
    "def add(eng,cn):\n",
    "    global dictionary,dictionaryc\n",
    "    dictt = {eng:cn}\n",
    "    dictionary.update(dictt)\n",
    "    dictionaryc = {value:key for key,value in dictionary.items()}\n",
    "def finde(eng):\n",
    "    print(\"{}的中文是{}\".format(eng,dictionary[eng]))\n",
    "def findc(cn):\n",
    "    print(\"{}的英文是{}\".format(cn,dictionaryc[cn]))"
   ]
  },
  {
   "cell_type": "code",
   "execution_count": 16,
   "metadata": {},
   "outputs": [],
   "source": [
    "def app():\n",
    "    print(\"歡迎使用字典\")\n",
    "    while True:\n",
    "        ans = input(\"請選擇功能(1:英翻中,2:中翻英,3:新增字典):\")\n",
    "        if ans == \"1\":\n",
    "            p = input(\"請輸入單字:\")\n",
    "            finde(p)\n",
    "        elif ans == \"2\":\n",
    "            p = input(\"請輸入單字:\")\n",
    "            findc(p)\n",
    "        elif ans == \"3\":\n",
    "            eng = input(\"請輸入欲新增之英文:\")\n",
    "            cn = input(\"請輸入中文翻譯:\")\n",
    "            add(eng,cn)\n",
    "        else :\n",
    "            print(\"請輸入正確數字!\")\n",
    "        "
   ]
  },
  {
   "cell_type": "code",
   "execution_count": null,
   "metadata": {},
   "outputs": [
    {
     "name": "stdout",
     "output_type": "stream",
     "text": [
      "歡迎使用字典\n",
      "請選擇功能(1:英翻中,2:中翻英,3:新增字典):1\n",
      "請輸入單字:apple\n",
      "apple的中文是蘋果\n",
      "請選擇功能(1:英翻中,2:中翻英,3:新增字典):2\n",
      "請輸入單字:香蕉\n",
      "香蕉的英文是banana\n",
      "請選擇功能(1:英翻中,2:中翻英,3:新增字典):3\n",
      "請輸入欲新增之英文:head\n",
      "請輸入中文翻譯:頭\n",
      "請選擇功能(1:英翻中,2:中翻英,3:新增字典):2\n",
      "請輸入單字:頭\n",
      "頭的英文是head\n"
     ]
    }
   ],
   "source": [
    "app()"
   ]
  },
  {
   "cell_type": "code",
   "execution_count": null,
   "metadata": {},
   "outputs": [],
   "source": []
  }
 ],
 "metadata": {
  "kernelspec": {
   "display_name": "Python 3",
   "language": "python",
   "name": "python3"
  },
  "language_info": {
   "codemirror_mode": {
    "name": "ipython",
    "version": 3
   },
   "file_extension": ".py",
   "mimetype": "text/x-python",
   "name": "python",
   "nbconvert_exporter": "python",
   "pygments_lexer": "ipython3",
   "version": "3.7.3"
  }
 },
 "nbformat": 4,
 "nbformat_minor": 2
}
