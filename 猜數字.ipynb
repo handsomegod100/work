{
 "cells": [
  {
   "cell_type": "code",
   "execution_count": 1,
   "metadata": {},
   "outputs": [],
   "source": [
    "import random"
   ]
  },
  {
   "cell_type": "code",
   "execution_count": 17,
   "metadata": {},
   "outputs": [],
   "source": [
    "number = [\"0\",\"1\",\"2\",\"3\",\"4\",\"5\",\"6\",\"7\",\"8\",\"9\"]\n",
    "def game():\n",
    "    print(\"猜數字!\")\n",
    "    C=0\n",
    "    pw = random.sample(number,4)\n",
    "    while True:\n",
    "        A=0\n",
    "        B=0\n",
    "        C+=1\n",
    "        ans = input(\"請輸入數字:\")\n",
    "        for i in range(4):\n",
    "            if ans[i] == pw[i] :\n",
    "                A += 1\n",
    "            elif ans[i] in pw :\n",
    "                B += 1\n",
    "        if A == 4 :\n",
    "            print(\"猜中了!，答案是{}，猜了{}次\".format(pw,C))\n",
    "            break\n",
    "        else : \n",
    "            print(\"{}A{}B\".format(A,B))\n",
    "    "
   ]
  },
  {
   "cell_type": "code",
   "execution_count": 18,
   "metadata": {},
   "outputs": [
    {
     "name": "stdout",
     "output_type": "stream",
     "text": [
      "猜數字!\n",
      "請輸入數字:1234\n",
      "0A2B\n",
      "請輸入數字:5678\n",
      "1A0B\n",
      "請輸入數字:1649\n",
      "2A0B\n",
      "請輸入數字:2640\n",
      "3A0B\n",
      "請輸入數字:3640\n",
      "猜中了!，答案是['3', '6', '4', '0']，猜了5次\n"
     ]
    }
   ],
   "source": [
    "game()"
   ]
  },
  {
   "cell_type": "code",
   "execution_count": null,
   "metadata": {},
   "outputs": [],
   "source": []
  }
 ],
 "metadata": {
  "kernelspec": {
   "display_name": "Python 3",
   "language": "python",
   "name": "python3"
  },
  "language_info": {
   "codemirror_mode": {
    "name": "ipython",
    "version": 3
   },
   "file_extension": ".py",
   "mimetype": "text/x-python",
   "name": "python",
   "nbconvert_exporter": "python",
   "pygments_lexer": "ipython3",
   "version": "3.7.3"
  }
 },
 "nbformat": 4,
 "nbformat_minor": 2
}
