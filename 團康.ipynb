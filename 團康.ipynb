{
 "cells": [
  {
   "cell_type": "code",
   "execution_count": 82,
   "metadata": {},
   "outputs": [],
   "source": [
    "import random\n",
    "name = [\"柯p\",\"吳博魚\",\"龜龜\",\"韓粉\",\"吉娃娃\"]\n",
    "place = [\"教室\",\"房間\",\"廁所\",\"操場\",\"樹上\"]\n",
    "act = [\"做活塞運動\",\"唱歌\",\"裝忙\",\"通宵打報告\",\"泡水\"]\n",
    "def arrange():\n",
    "    print(\"{}在{}{}\".format(random.choice(name),random.choice(place),random.choice(act)))"
   ]
  },
  {
   "cell_type": "code",
   "execution_count": 76,
   "metadata": {
    "scrolled": false
   },
   "outputs": [
    {
     "name": "stdout",
     "output_type": "stream",
     "text": [
      "吳博魚在樹上做活塞運動\n"
     ]
    }
   ],
   "source": [
    "arrange()"
   ]
  },
  {
   "cell_type": "code",
   "execution_count": 85,
   "metadata": {
    "scrolled": true
   },
   "outputs": [
    {
     "name": "stdout",
     "output_type": "stream",
     "text": [
      "龜龜在樹上裝忙\n"
     ]
    }
   ],
   "source": [
    "arrange()"
   ]
  },
  {
   "cell_type": "code",
   "execution_count": null,
   "metadata": {
    "collapsed": true
   },
   "outputs": [],
   "source": []
  }
 ],
 "metadata": {
  "kernelspec": {
   "display_name": "Python 3",
   "language": "python",
   "name": "python3"
  },
  "language_info": {
   "codemirror_mode": {
    "name": "ipython",
    "version": 3
   },
   "file_extension": ".py",
   "mimetype": "text/x-python",
   "name": "python",
   "nbconvert_exporter": "python",
   "pygments_lexer": "ipython3",
   "version": "3.6.1"
  }
 },
 "nbformat": 4,
 "nbformat_minor": 2
}
