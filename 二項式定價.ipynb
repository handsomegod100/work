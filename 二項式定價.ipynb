{
 "cells": [
  {
   "cell_type": "code",
   "execution_count": 1,
   "metadata": {},
   "outputs": [],
   "source": [
    "import math\n",
    "from itertools import combinations, permutations, combinations_with_replacement"
   ]
  },
  {
   "cell_type": "code",
   "execution_count": 21,
   "metadata": {},
   "outputs": [
    {
     "name": "stdout",
     "output_type": "stream",
     "text": [
      "請輸入股價波動率(小數):0.4\n",
      "請輸入到期年數:0.083\n",
      "請輸入期數(整數):30\n",
      "請輸入利率(小數):0.00167\n",
      "請輸入股票現價:10935\n",
      "請輸入選擇權履約價:10500\n"
     ]
    }
   ],
   "source": [
    "vix = float(input(\"請輸入股價波動率(小數):\")) #波動率\n",
    "t = float(input(\"請輸入到期年數:\")) #年數\n",
    "n = int(input(\"請輸入期數(整數):\")) #期數\n",
    "r = float(input(\"請輸入利率(小數):\")) # 利率\n",
    "s = float(input(\"請輸入股票現價:\")) #股價\n",
    "K = float(input(\"請輸入選擇權履約價:\")) #履約價\n",
    "dt = t/n #股價間隔時間\n",
    "a = math.exp(r*dt) #折現因子\n",
    "u = math.exp(vix*dt**(1/2)) #上漲幅度\n",
    "d = 1/u #下跌幅度\n",
    "p = (a-d)/(u-d) #上漲機率"
   ]
  },
  {
   "cell_type": "code",
   "execution_count": 23,
   "metadata": {},
   "outputs": [
    {
     "data": {
      "text/plain": [
       "[20556.10562771164,\n",
       " 19709.065694265086,\n",
       " 18896.92909619962,\n",
       " 18118.25759811143,\n",
       " 17371.67222887774,\n",
       " 16655.85083959827,\n",
       " 15969.525762164834,\n",
       " 15311.481564312415,\n",
       " 14680.552897176198,\n",
       " 14075.622431542712,\n",
       " 13495.618879140262,\n",
       " 12939.515095464596,\n",
       " 12406.326260779999,\n",
       " 11895.108136074477,\n",
       " 11404.955390880505,\n",
       " 10934.99999999999,\n",
       " 10484.409706294187,\n",
       " 10052.386546816266,\n",
       " 9638.16543967642,\n",
       " 9241.012829136967,\n",
       " 8860.225386537979,\n",
       " 8495.128764752906,\n",
       " 8145.076403968396,\n",
       " 7809.448386673442,\n",
       " 7487.65033983014,\n",
       " 7179.112382281862,\n",
       " 6883.288115534779,\n",
       " 6599.653656125498,\n",
       " 6327.706707861195,\n",
       " 6066.965672289238,\n",
       " 5816.968795821033]"
      ]
     },
     "execution_count": 23,
     "metadata": {},
     "output_type": "execute_result"
    }
   ],
   "source": [
    "Com = list(combinations_with_replacement([u,d],n)) #上漲下跌組合\n",
    "Saves = [] #記錄股價的List\n",
    "for j in range(len(Com)): #計算各種組合的到期股價\n",
    "    S = s\n",
    "    for i in list(Com[j]):\n",
    "        S *= i\n",
    "    Saves.append(S)\n",
    "Saves"
   ]
  },
  {
   "cell_type": "code",
   "execution_count": 24,
   "metadata": {},
   "outputs": [
    {
     "data": {
      "text/plain": [
       "[10056.10562771164,\n",
       " 9209.065694265086,\n",
       " 8396.92909619962,\n",
       " 7618.257598111431,\n",
       " 6871.672228877738,\n",
       " 6155.850839598272,\n",
       " 5469.525762164834,\n",
       " 4811.481564312415,\n",
       " 4180.552897176198,\n",
       " 3575.6224315427116,\n",
       " 2995.618879140262,\n",
       " 2439.515095464596,\n",
       " 1906.3262607799988,\n",
       " 1395.1081360744774,\n",
       " 904.9553908805046,\n",
       " 434.9999999999909,\n",
       " 0,\n",
       " 0,\n",
       " 0,\n",
       " 0,\n",
       " 0,\n",
       " 0,\n",
       " 0,\n",
       " 0,\n",
       " 0,\n",
       " 0,\n",
       " 0,\n",
       " 0,\n",
       " 0,\n",
       " 0,\n",
       " 0]"
      ]
     },
     "execution_count": 24,
     "metadata": {},
     "output_type": "execute_result"
    }
   ],
   "source": [
    "result = [] #記錄買權價值的List\n",
    "for i in range(len(Saves)): #計算買權到期價值\n",
    "    result.append(max(0,(Saves[i]-K)))\n",
    "lenth = len(result)\n",
    "result"
   ]
  },
  {
   "cell_type": "code",
   "execution_count": 25,
   "metadata": {},
   "outputs": [
    {
     "data": {
      "text/plain": [
       "[738.1324860497824]"
      ]
     },
     "execution_count": 25,
     "metadata": {},
     "output_type": "execute_result"
    }
   ],
   "source": [
    "for x in range(len(result)-1): #買權現值\n",
    "    smallresult = []\n",
    "    lenth -= 1\n",
    "    for i in range(lenth):\n",
    "        smallresult.append((p*result[i]+(1-p)*result[i+1])/a)\n",
    "    result = smallresult\n",
    "result"
   ]
  },
  {
   "cell_type": "code",
   "execution_count": null,
   "metadata": {},
   "outputs": [],
   "source": []
  }
 ],
 "metadata": {
  "kernelspec": {
   "display_name": "Python 3",
   "language": "python",
   "name": "python3"
  },
  "language_info": {
   "codemirror_mode": {
    "name": "ipython",
    "version": 3
   },
   "file_extension": ".py",
   "mimetype": "text/x-python",
   "name": "python",
   "nbconvert_exporter": "python",
   "pygments_lexer": "ipython3",
   "version": "3.7.3"
  }
 },
 "nbformat": 4,
 "nbformat_minor": 2
}
