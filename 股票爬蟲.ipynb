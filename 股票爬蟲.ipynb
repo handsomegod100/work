{
 "cells": [
  {
   "cell_type": "code",
   "execution_count": 23,
   "metadata": {},
   "outputs": [],
   "source": [
    "from pyquery import PyQuery as pq"
   ]
  },
  {
   "cell_type": "code",
   "execution_count": 25,
   "metadata": {},
   "outputs": [
    {
     "name": "stdout",
     "output_type": "stream",
     "text": [
      "請輸入股票代號：2330\n",
      "2330台積電現在的股價是292.0\n"
     ]
    }
   ],
   "source": [
    "number = input(\"請輸入股票代號：\")\n",
    "html = pq(\"https://tw.stock.yahoo.com/q/q?s={}\".format(number))\n",
    "price = html('td[align=\"center\"]').text().split()[3]\n",
    "print(\"{}現在的股價是{}\".format(html('td[align=\"center\"]').text().split()[0],html('td[align=\"center\"]').text().split()[3]))"
   ]
  }
 ],
 "metadata": {
  "kernelspec": {
   "display_name": "Python 3",
   "language": "python",
   "name": "python3"
  },
  "language_info": {
   "codemirror_mode": {
    "name": "ipython",
    "version": 3
   },
   "file_extension": ".py",
   "mimetype": "text/x-python",
   "name": "python",
   "nbconvert_exporter": "python",
   "pygments_lexer": "ipython3",
   "version": "3.7.3"
  }
 },
 "nbformat": 4,
 "nbformat_minor": 2
}
